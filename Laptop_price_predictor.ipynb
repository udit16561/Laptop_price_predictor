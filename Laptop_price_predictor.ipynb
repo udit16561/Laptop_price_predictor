{
  "cells": [
    {
      "cell_type": "code",
      "execution_count": 156,
      "metadata": {
        "id": "mWDeEExLiZif"
      },
      "outputs": [
        {
          "name": "stderr",
          "output_type": "stream",
          "text": [
            "<>:3: SyntaxWarning: invalid escape sequence '\\l'\n",
            "<>:3: SyntaxWarning: invalid escape sequence '\\l'\n",
            "C:\\Users\\ASUS\\AppData\\Local\\Temp\\ipykernel_16716\\1565082507.py:3: SyntaxWarning: invalid escape sequence '\\l'\n",
            "  df=pd.read_csv('D:\\laptop/laptop_data.csv')\n"
          ]
        }
      ],
      "source": [
        "import pandas as pd\n",
        "\n",
        "df=pd.read_csv('D:\\laptop/laptop_data.csv')"
      ]
    },
    {
      "cell_type": "code",
      "execution_count": 157,
      "metadata": {
        "colab": {
          "base_uri": "https://localhost:8080/"
        },
        "id": "SyiL5rsji0w_",
        "outputId": "37930b20-cb7e-41e9-bfb0-3a9a04bea1c9"
      },
      "outputs": [
        {
          "data": {
            "text/plain": [
              "0"
            ]
          },
          "execution_count": 157,
          "metadata": {},
          "output_type": "execute_result"
        }
      ],
      "source": [
        "df.duplicated().sum()"
      ]
    },
    {
      "cell_type": "code",
      "execution_count": 158,
      "metadata": {
        "colab": {
          "base_uri": "https://localhost:8080/",
          "height": 449
        },
        "id": "Z4G04B1Ai0zB",
        "outputId": "d8fccd35-14c6-4059-ea81-4e109299c0e4"
      },
      "outputs": [
        {
          "data": {
            "text/html": [
              "<div>\n",
              "<style scoped>\n",
              "    .dataframe tbody tr th:only-of-type {\n",
              "        vertical-align: middle;\n",
              "    }\n",
              "\n",
              "    .dataframe tbody tr th {\n",
              "        vertical-align: top;\n",
              "    }\n",
              "\n",
              "    .dataframe thead th {\n",
              "        text-align: right;\n",
              "    }\n",
              "</style>\n",
              "<table border=\"1\" class=\"dataframe\">\n",
              "  <thead>\n",
              "    <tr style=\"text-align: right;\">\n",
              "      <th></th>\n",
              "      <th>Unnamed: 0</th>\n",
              "      <th>Company</th>\n",
              "      <th>TypeName</th>\n",
              "      <th>Inches</th>\n",
              "      <th>ScreenResolution</th>\n",
              "      <th>Cpu</th>\n",
              "      <th>Ram</th>\n",
              "      <th>Memory</th>\n",
              "      <th>Gpu</th>\n",
              "      <th>OpSys</th>\n",
              "      <th>Weight</th>\n",
              "      <th>Price</th>\n",
              "    </tr>\n",
              "  </thead>\n",
              "  <tbody>\n",
              "    <tr>\n",
              "      <th>0</th>\n",
              "      <td>0</td>\n",
              "      <td>Apple</td>\n",
              "      <td>Ultrabook</td>\n",
              "      <td>13.3</td>\n",
              "      <td>IPS Panel Retina Display 2560x1600</td>\n",
              "      <td>Intel Core i5 2.3GHz</td>\n",
              "      <td>8GB</td>\n",
              "      <td>128GB SSD</td>\n",
              "      <td>Intel Iris Plus Graphics 640</td>\n",
              "      <td>macOS</td>\n",
              "      <td>1.37kg</td>\n",
              "      <td>71378.6832</td>\n",
              "    </tr>\n",
              "    <tr>\n",
              "      <th>1</th>\n",
              "      <td>1</td>\n",
              "      <td>Apple</td>\n",
              "      <td>Ultrabook</td>\n",
              "      <td>13.3</td>\n",
              "      <td>1440x900</td>\n",
              "      <td>Intel Core i5 1.8GHz</td>\n",
              "      <td>8GB</td>\n",
              "      <td>128GB Flash Storage</td>\n",
              "      <td>Intel HD Graphics 6000</td>\n",
              "      <td>macOS</td>\n",
              "      <td>1.34kg</td>\n",
              "      <td>47895.5232</td>\n",
              "    </tr>\n",
              "    <tr>\n",
              "      <th>2</th>\n",
              "      <td>2</td>\n",
              "      <td>HP</td>\n",
              "      <td>Notebook</td>\n",
              "      <td>15.6</td>\n",
              "      <td>Full HD 1920x1080</td>\n",
              "      <td>Intel Core i5 7200U 2.5GHz</td>\n",
              "      <td>8GB</td>\n",
              "      <td>256GB SSD</td>\n",
              "      <td>Intel HD Graphics 620</td>\n",
              "      <td>No OS</td>\n",
              "      <td>1.86kg</td>\n",
              "      <td>30636.0000</td>\n",
              "    </tr>\n",
              "    <tr>\n",
              "      <th>3</th>\n",
              "      <td>3</td>\n",
              "      <td>Apple</td>\n",
              "      <td>Ultrabook</td>\n",
              "      <td>15.4</td>\n",
              "      <td>IPS Panel Retina Display 2880x1800</td>\n",
              "      <td>Intel Core i7 2.7GHz</td>\n",
              "      <td>16GB</td>\n",
              "      <td>512GB SSD</td>\n",
              "      <td>AMD Radeon Pro 455</td>\n",
              "      <td>macOS</td>\n",
              "      <td>1.83kg</td>\n",
              "      <td>135195.3360</td>\n",
              "    </tr>\n",
              "    <tr>\n",
              "      <th>4</th>\n",
              "      <td>4</td>\n",
              "      <td>Apple</td>\n",
              "      <td>Ultrabook</td>\n",
              "      <td>13.3</td>\n",
              "      <td>IPS Panel Retina Display 2560x1600</td>\n",
              "      <td>Intel Core i5 3.1GHz</td>\n",
              "      <td>8GB</td>\n",
              "      <td>256GB SSD</td>\n",
              "      <td>Intel Iris Plus Graphics 650</td>\n",
              "      <td>macOS</td>\n",
              "      <td>1.37kg</td>\n",
              "      <td>96095.8080</td>\n",
              "    </tr>\n",
              "  </tbody>\n",
              "</table>\n",
              "</div>"
            ],
            "text/plain": [
              "   Unnamed: 0 Company   TypeName  Inches                    ScreenResolution  \\\n",
              "0           0   Apple  Ultrabook    13.3  IPS Panel Retina Display 2560x1600   \n",
              "1           1   Apple  Ultrabook    13.3                            1440x900   \n",
              "2           2      HP   Notebook    15.6                   Full HD 1920x1080   \n",
              "3           3   Apple  Ultrabook    15.4  IPS Panel Retina Display 2880x1800   \n",
              "4           4   Apple  Ultrabook    13.3  IPS Panel Retina Display 2560x1600   \n",
              "\n",
              "                          Cpu   Ram               Memory  \\\n",
              "0        Intel Core i5 2.3GHz   8GB            128GB SSD   \n",
              "1        Intel Core i5 1.8GHz   8GB  128GB Flash Storage   \n",
              "2  Intel Core i5 7200U 2.5GHz   8GB            256GB SSD   \n",
              "3        Intel Core i7 2.7GHz  16GB            512GB SSD   \n",
              "4        Intel Core i5 3.1GHz   8GB            256GB SSD   \n",
              "\n",
              "                            Gpu  OpSys  Weight        Price  \n",
              "0  Intel Iris Plus Graphics 640  macOS  1.37kg   71378.6832  \n",
              "1        Intel HD Graphics 6000  macOS  1.34kg   47895.5232  \n",
              "2         Intel HD Graphics 620  No OS  1.86kg   30636.0000  \n",
              "3            AMD Radeon Pro 455  macOS  1.83kg  135195.3360  \n",
              "4  Intel Iris Plus Graphics 650  macOS  1.37kg   96095.8080  "
            ]
          },
          "execution_count": 158,
          "metadata": {},
          "output_type": "execute_result"
        }
      ],
      "source": [
        "df.head()"
      ]
    },
    {
      "cell_type": "code",
      "execution_count": 159,
      "metadata": {
        "id": "4KIEZ_gAi01w"
      },
      "outputs": [],
      "source": [
        "#Converting string value into numeric\n",
        "df['Ram']=df['Ram'].str.replace('GB','').astype(int)"
      ]
    },
    {
      "cell_type": "code",
      "execution_count": 160,
      "metadata": {
        "id": "Xz0wOwZfi03u"
      },
      "outputs": [],
      "source": [
        "df['Weight']=df['Weight'].str.replace('kg','').astype(float)"
      ]
    },
    {
      "cell_type": "code",
      "execution_count": 161,
      "metadata": {
        "colab": {
          "base_uri": "https://localhost:8080/",
          "height": 673
        },
        "id": "uQqS43Eci05Y",
        "outputId": "8a07dadf-9285-4d20-9f4a-4ccb9e1dbd8f"
      },
      "outputs": [
        {
          "name": "stderr",
          "output_type": "stream",
          "text": [
            "C:\\Users\\ASUS\\AppData\\Local\\Temp\\ipykernel_16716\\2229499591.py:2: UserWarning: \n",
            "\n",
            "`distplot` is a deprecated function and will be removed in seaborn v0.14.0.\n",
            "\n",
            "Please adapt your code to use either `displot` (a figure-level function with\n",
            "similar flexibility) or `histplot` (an axes-level function for histograms).\n",
            "\n",
            "For a guide to updating your code to use the new functions, please see\n",
            "https://gist.github.com/mwaskom/de44147ed2974457ad6372750bbe5751\n",
            "\n",
            "  sns.distplot(df['Price'])\n"
          ]
        },
        {
          "data": {
            "text/plain": [
              "<Axes: xlabel='Price', ylabel='Density'>"
            ]
          },
          "execution_count": 161,
          "metadata": {},
          "output_type": "execute_result"
        },
        {
          "data": {
            "image/png": "[encoded data removed]",
            "text/plain": [
              "<Figure size 640x480 with 1 Axes>"
            ]
          },
          "metadata": {},
          "output_type": "display_data"
        }
      ],
      "source": [
        "import seaborn as sns\n",
        "sns.distplot(df['Price'])"
      ]
    },
    {
      "cell_type": "code",
      "execution_count": 162,
      "metadata": {
        "colab": {
          "base_uri": "https://localhost:8080/",
          "height": 524
        },
        "id": "BSiltDlIi08q",
        "outputId": "b2866038-5da8-45e0-985f-5364bf7fdfd9"
      },
      "outputs": [
        {
          "data": {
            "text/plain": [
              "<Axes: xlabel='Company'>"
            ]
          },
          "execution_count": 162,
          "metadata": {},
          "output_type": "execute_result"
        },
        {
          "data": {
            "image/png": "[encoded data removed]",
            "text/plain": [
              "<Figure size 640x480 with 1 Axes>"
            ]
          },
          "metadata": {},
          "output_type": "display_data"
        }
      ],
      "source": [
        "df['Company'].value_counts().plot(kind='bar')"
      ]
    },
    {
      "cell_type": "code",
      "execution_count": 163,
      "metadata": {
        "colab": {
          "base_uri": "https://localhost:8080/",
          "height": 507
        },
        "id": "tAB6LpzYi0-E",
        "outputId": "8e3a224d-f2b3-4996-d60f-511addbb1e68"
      },
      "outputs": [
        {
          "data": {
            "image/png": "[encoded data removed]",
            "text/plain": [
              "<Figure size 640x480 with 1 Axes>"
            ]
          },
          "metadata": {},
          "output_type": "display_data"
        }
      ],
      "source": [
        "import matplotlib.pyplot as plt\n",
        "\n",
        "sns.barplot(x='Company',y='Price',data=df)\n",
        "plt.xticks(rotation='vertical')\n",
        "plt.show()"
      ]
    },
    {
      "cell_type": "code",
      "execution_count": 164,
      "metadata": {
        "colab": {
          "base_uri": "https://localhost:8080/",
          "height": 576
        },
        "id": "vlVLVGmAi0_c",
        "outputId": "90573626-c73d-4fdb-f610-749fd9b44f5b"
      },
      "outputs": [
        {
          "data": {
            "text/plain": [
              "<Axes: xlabel='TypeName'>"
            ]
          },
          "execution_count": 164,
          "metadata": {},
          "output_type": "execute_result"
        },
        {
          "data": {
            "image/png": "[encoded data removed]",
            "text/plain": [
              "<Figure size 640x480 with 1 Axes>"
            ]
          },
          "metadata": {},
          "output_type": "display_data"
        }
      ],
      "source": [
        "df['TypeName'].value_counts().plot(kind='bar')"
      ]
    },
    {
      "cell_type": "code",
      "execution_count": 165,
      "metadata": {
        "colab": {
          "base_uri": "https://localhost:8080/",
          "height": 483
        },
        "id": "gWovN2hLi1Cq",
        "outputId": "a0e14018-8833-48e3-d9ca-ca5c2a8d1ecd"
      },
      "outputs": [
        {
          "data": {
            "text/plain": [
              "<Axes: xlabel='Inches'>"
            ]
          },
          "execution_count": 165,
          "metadata": {},
          "output_type": "execute_result"
        },
        {
          "data": {
            "image/png": "[encoded data removed]",
            "text/plain": [
              "<Figure size 640x480 with 1 Axes>"
            ]
          },
          "metadata": {},
          "output_type": "display_data"
        }
      ],
      "source": [
        "df['Inches'].value_counts().plot(kind='bar')"
      ]
    },
    {
      "cell_type": "code",
      "execution_count": 166,
      "metadata": {
        "colab": {
          "base_uri": "https://localhost:8080/",
          "height": 466
        },
        "id": "4S3UtbXli1GS",
        "outputId": "846e8dd9-4fec-45d6-e833-884acee1b564"
      },
      "outputs": [
        {
          "data": {
            "text/plain": [
              "<Axes: xlabel='Inches', ylabel='Price'>"
            ]
          },
          "execution_count": 166,
          "metadata": {},
          "output_type": "execute_result"
        },
        {
          "data": {
            "image/png": "[encoded data removed]",
            "text/plain": [
              "<Figure size 640x480 with 1 Axes>"
            ]
          },
          "metadata": {},
          "output_type": "display_data"
        }
      ],
      "source": [
        "sns.scatterplot(x='Inches',y='Price',data=df)"
      ]
    },
    {
      "cell_type": "code",
      "execution_count": 167,
      "metadata": {
        "colab": {
          "base_uri": "https://localhost:8080/",
          "height": 1000
        },
        "id": "PSdqXSxTnOw6",
        "outputId": "0b9bcb06-e072-495c-c05e-70fb863cbc30"
      },
      "outputs": [
        {
          "data": {
            "text/plain": [
              "ScreenResolution\n",
              "Full HD 1920x1080                                507\n",
              "1366x768                                         281\n",
              "IPS Panel Full HD 1920x1080                      230\n",
              "IPS Panel Full HD / Touchscreen 1920x1080         53\n",
              "Full HD / Touchscreen 1920x1080                   47\n",
              "1600x900                                          23\n",
              "Touchscreen 1366x768                              16\n",
              "Quad HD+ / Touchscreen 3200x1800                  15\n",
              "IPS Panel 4K Ultra HD 3840x2160                   12\n",
              "IPS Panel 4K Ultra HD / Touchscreen 3840x2160     11\n",
              "4K Ultra HD / Touchscreen 3840x2160               10\n",
              "4K Ultra HD 3840x2160                              7\n",
              "Touchscreen 2560x1440                              7\n",
              "IPS Panel 1366x768                                 7\n",
              "IPS Panel Quad HD+ / Touchscreen 3200x1800         6\n",
              "IPS Panel Retina Display 2560x1600                 6\n",
              "IPS Panel Retina Display 2304x1440                 6\n",
              "Touchscreen 2256x1504                              6\n",
              "IPS Panel Touchscreen 2560x1440                    5\n",
              "IPS Panel Retina Display 2880x1800                 4\n",
              "IPS Panel Touchscreen 1920x1200                    4\n",
              "1440x900                                           4\n",
              "IPS Panel 2560x1440                                4\n",
              "IPS Panel Quad HD+ 2560x1440                       3\n",
              "Quad HD+ 3200x1800                                 3\n",
              "1920x1080                                          3\n",
              "Touchscreen 2400x1600                              3\n",
              "2560x1440                                          3\n",
              "IPS Panel Touchscreen 1366x768                     3\n",
              "IPS Panel Touchscreen / 4K Ultra HD 3840x2160      2\n",
              "IPS Panel Full HD 2160x1440                        2\n",
              "IPS Panel Quad HD+ 3200x1800                       2\n",
              "IPS Panel Retina Display 2736x1824                 1\n",
              "IPS Panel Full HD 1920x1200                        1\n",
              "IPS Panel Full HD 2560x1440                        1\n",
              "IPS Panel Full HD 1366x768                         1\n",
              "Touchscreen / Full HD 1920x1080                    1\n",
              "Touchscreen / Quad HD+ 3200x1800                   1\n",
              "Touchscreen / 4K Ultra HD 3840x2160                1\n",
              "IPS Panel Touchscreen 2400x1600                    1\n",
              "Name: count, dtype: int64"
            ]
          },
          "execution_count": 167,
          "metadata": {},
          "output_type": "execute_result"
        }
      ],
      "source": [
        "df['ScreenResolution'].value_counts()"
      ]
    },
    {
      "cell_type": "code",
      "execution_count": 168,
      "metadata": {
        "id": "mrziHHM4nOzn"
      },
      "outputs": [],
      "source": [
        "df['Touchscreen']=df['ScreenResolution'].apply(lambda x: 1 if 'Touchscreen' in x else 0)"
      ]
    },
    {
      "cell_type": "code",
      "execution_count": 169,
      "metadata": {
        "colab": {
          "base_uri": "https://localhost:8080/",
          "height": 1000
        },
        "id": "B_tVm0NBnO1t",
        "outputId": "1873077b-62ff-41a9-a4c2-29fd9241b1dc"
      },
      "outputs": [
        {
          "data": {
            "text/html": [
              "<div>\n",
              "<style scoped>\n",
              "    .dataframe tbody tr th:only-of-type {\n",
              "        vertical-align: middle;\n",
              "    }\n",
              "\n",
              "    .dataframe tbody tr th {\n",
              "        vertical-align: top;\n",
              "    }\n",
              "\n",
              "    .dataframe thead th {\n",
              "        text-align: right;\n",
              "    }\n",
              "</style>\n",
              "<table border=\"1\" class=\"dataframe\">\n",
              "  <thead>\n",
              "    <tr style=\"text-align: right;\">\n",
              "      <th></th>\n",
              "      <th>Unnamed: 0</th>\n",
              "      <th>Company</th>\n",
              "      <th>TypeName</th>\n",
              "      <th>Inches</th>\n",
              "      <th>ScreenResolution</th>\n",
              "      <th>Cpu</th>\n",
              "      <th>Ram</th>\n",
              "      <th>Memory</th>\n",
              "      <th>Gpu</th>\n",
              "      <th>OpSys</th>\n",
              "      <th>Weight</th>\n",
              "      <th>Price</th>\n",
              "      <th>Touchscreen</th>\n",
              "    </tr>\n",
              "  </thead>\n",
              "  <tbody>\n",
              "    <tr>\n",
              "      <th>0</th>\n",
              "      <td>0</td>\n",
              "      <td>Apple</td>\n",
              "      <td>Ultrabook</td>\n",
              "      <td>13.3</td>\n",
              "      <td>IPS Panel Retina Display 2560x1600</td>\n",
              "      <td>Intel Core i5 2.3GHz</td>\n",
              "      <td>8</td>\n",
              "      <td>128GB SSD</td>\n",
              "      <td>Intel Iris Plus Graphics 640</td>\n",
              "      <td>macOS</td>\n",
              "      <td>1.37</td>\n",
              "      <td>71378.6832</td>\n",
              "      <td>0</td>\n",
              "    </tr>\n",
              "    <tr>\n",
              "      <th>1</th>\n",
              "      <td>1</td>\n",
              "      <td>Apple</td>\n",
              "      <td>Ultrabook</td>\n",
              "      <td>13.3</td>\n",
              "      <td>1440x900</td>\n",
              "      <td>Intel Core i5 1.8GHz</td>\n",
              "      <td>8</td>\n",
              "      <td>128GB Flash Storage</td>\n",
              "      <td>Intel HD Graphics 6000</td>\n",
              "      <td>macOS</td>\n",
              "      <td>1.34</td>\n",
              "      <td>47895.5232</td>\n",
              "      <td>0</td>\n",
              "    </tr>\n",
              "    <tr>\n",
              "      <th>2</th>\n",
              "      <td>2</td>\n",
              "      <td>HP</td>\n",
              "      <td>Notebook</td>\n",
              "      <td>15.6</td>\n",
              "      <td>Full HD 1920x1080</td>\n",
              "      <td>Intel Core i5 7200U 2.5GHz</td>\n",
              "      <td>8</td>\n",
              "      <td>256GB SSD</td>\n",
              "      <td>Intel HD Graphics 620</td>\n",
              "      <td>No OS</td>\n",
              "      <td>1.86</td>\n",
              "      <td>30636.0000</td>\n",
              "      <td>0</td>\n",
              "    </tr>\n",
              "    <tr>\n",
              "      <th>3</th>\n",
              "      <td>3</td>\n",
              "      <td>Apple</td>\n",
              "      <td>Ultrabook</td>\n",
              "      <td>15.4</td>\n",
              "      <td>IPS Panel Retina Display 2880x1800</td>\n",
              "      <td>Intel Core i7 2.7GHz</td>\n",
              "      <td>16</td>\n",
              "      <td>512GB SSD</td>\n",
              "      <td>AMD Radeon Pro 455</td>\n",
              "      <td>macOS</td>\n",
              "      <td>1.83</td>\n",
              "      <td>135195.3360</td>\n",
              "      <td>0</td>\n",
              "    </tr>\n",
              "    <tr>\n",
              "      <th>4</th>\n",
              "      <td>4</td>\n",
              "      <td>Apple</td>\n",
              "      <td>Ultrabook</td>\n",
              "      <td>13.3</td>\n",
              "      <td>IPS Panel Retina Display 2560x1600</td>\n",
              "      <td>Intel Core i5 3.1GHz</td>\n",
              "      <td>8</td>\n",
              "      <td>256GB SSD</td>\n",
              "      <td>Intel Iris Plus Graphics 650</td>\n",
              "      <td>macOS</td>\n",
              "      <td>1.37</td>\n",
              "      <td>96095.8080</td>\n",
              "      <td>0</td>\n",
              "    </tr>\n",
              "    <tr>\n",
              "      <th>...</th>\n",
              "      <td>...</td>\n",
              "      <td>...</td>\n",
              "      <td>...</td>\n",
              "      <td>...</td>\n",
              "      <td>...</td>\n",
              "      <td>...</td>\n",
              "      <td>...</td>\n",
              "      <td>...</td>\n",
              "      <td>...</td>\n",
              "      <td>...</td>\n",
              "      <td>...</td>\n",
              "      <td>...</td>\n",
              "      <td>...</td>\n",
              "    </tr>\n",
              "    <tr>\n",
              "      <th>1298</th>\n",
              "      <td>1298</td>\n",
              "      <td>Lenovo</td>\n",
              "      <td>2 in 1 Convertible</td>\n",
              "      <td>14.0</td>\n",
              "      <td>IPS Panel Full HD / Touchscreen 1920x1080</td>\n",
              "      <td>Intel Core i7 6500U 2.5GHz</td>\n",
              "      <td>4</td>\n",
              "      <td>128GB SSD</td>\n",
              "      <td>Intel HD Graphics 520</td>\n",
              "      <td>Windows 10</td>\n",
              "      <td>1.80</td>\n",
              "      <td>33992.6400</td>\n",
              "      <td>1</td>\n",
              "    </tr>\n",
              "    <tr>\n",
              "      <th>1299</th>\n",
              "      <td>1299</td>\n",
              "      <td>Lenovo</td>\n",
              "      <td>2 in 1 Convertible</td>\n",
              "      <td>13.3</td>\n",
              "      <td>IPS Panel Quad HD+ / Touchscreen 3200x1800</td>\n",
              "      <td>Intel Core i7 6500U 2.5GHz</td>\n",
              "      <td>16</td>\n",
              "      <td>512GB SSD</td>\n",
              "      <td>Intel HD Graphics 520</td>\n",
              "      <td>Windows 10</td>\n",
              "      <td>1.30</td>\n",
              "      <td>79866.7200</td>\n",
              "      <td>1</td>\n",
              "    </tr>\n",
              "    <tr>\n",
              "      <th>1300</th>\n",
              "      <td>1300</td>\n",
              "      <td>Lenovo</td>\n",
              "      <td>Notebook</td>\n",
              "      <td>14.0</td>\n",
              "      <td>1366x768</td>\n",
              "      <td>Intel Celeron Dual Core N3050 1.6GHz</td>\n",
              "      <td>2</td>\n",
              "      <td>64GB Flash Storage</td>\n",
              "      <td>Intel HD Graphics</td>\n",
              "      <td>Windows 10</td>\n",
              "      <td>1.50</td>\n",
              "      <td>12201.1200</td>\n",
              "      <td>0</td>\n",
              "    </tr>\n",
              "    <tr>\n",
              "      <th>1301</th>\n",
              "      <td>1301</td>\n",
              "      <td>HP</td>\n",
              "      <td>Notebook</td>\n",
              "      <td>15.6</td>\n",
              "      <td>1366x768</td>\n",
              "      <td>Intel Core i7 6500U 2.5GHz</td>\n",
              "      <td>6</td>\n",
              "      <td>1TB HDD</td>\n",
              "      <td>AMD Radeon R5 M330</td>\n",
              "      <td>Windows 10</td>\n",
              "      <td>2.19</td>\n",
              "      <td>40705.9200</td>\n",
              "      <td>0</td>\n",
              "    </tr>\n",
              "    <tr>\n",
              "      <th>1302</th>\n",
              "      <td>1302</td>\n",
              "      <td>Asus</td>\n",
              "      <td>Notebook</td>\n",
              "      <td>15.6</td>\n",
              "      <td>1366x768</td>\n",
              "      <td>Intel Celeron Dual Core N3050 1.6GHz</td>\n",
              "      <td>4</td>\n",
              "      <td>500GB HDD</td>\n",
              "      <td>Intel HD Graphics</td>\n",
              "      <td>Windows 10</td>\n",
              "      <td>2.20</td>\n",
              "      <td>19660.3200</td>\n",
              "      <td>0</td>\n",
              "    </tr>\n",
              "  </tbody>\n",
              "</table>\n",
              "<p>1303 rows × 13 columns</p>\n",
              "</div>"
            ],
            "text/plain": [
              "      Unnamed: 0 Company            TypeName  Inches  \\\n",
              "0              0   Apple           Ultrabook    13.3   \n",
              "1              1   Apple           Ultrabook    13.3   \n",
              "2              2      HP            Notebook    15.6   \n",
              "3              3   Apple           Ultrabook    15.4   \n",
              "4              4   Apple           Ultrabook    13.3   \n",
              "...          ...     ...                 ...     ...   \n",
              "1298        1298  Lenovo  2 in 1 Convertible    14.0   \n",
              "1299        1299  Lenovo  2 in 1 Convertible    13.3   \n",
              "1300        1300  Lenovo            Notebook    14.0   \n",
              "1301        1301      HP            Notebook    15.6   \n",
              "1302        1302    Asus            Notebook    15.6   \n",
              "\n",
              "                                ScreenResolution  \\\n",
              "0             IPS Panel Retina Display 2560x1600   \n",
              "1                                       1440x900   \n",
              "2                              Full HD 1920x1080   \n",
              "3             IPS Panel Retina Display 2880x1800   \n",
              "4             IPS Panel Retina Display 2560x1600   \n",
              "...                                          ...   \n",
              "1298   IPS Panel Full HD / Touchscreen 1920x1080   \n",
              "1299  IPS Panel Quad HD+ / Touchscreen 3200x1800   \n",
              "1300                                    1366x768   \n",
              "1301                                    1366x768   \n",
              "1302                                    1366x768   \n",
              "\n",
              "                                       Cpu  Ram               Memory  \\\n",
              "0                     Intel Core i5 2.3GHz    8            128GB SSD   \n",
              "1                     Intel Core i5 1.8GHz    8  128GB Flash Storage   \n",
              "2               Intel Core i5 7200U 2.5GHz    8            256GB SSD   \n",
              "3                     Intel Core i7 2.7GHz   16            512GB SSD   \n",
              "4                     Intel Core i5 3.1GHz    8            256GB SSD   \n",
              "...                                    ...  ...                  ...   \n",
              "1298            Intel Core i7 6500U 2.5GHz    4            128GB SSD   \n",
              "1299            Intel Core i7 6500U 2.5GHz   16            512GB SSD   \n",
              "1300  Intel Celeron Dual Core N3050 1.6GHz    2   64GB Flash Storage   \n",
              "1301            Intel Core i7 6500U 2.5GHz    6              1TB HDD   \n",
              "1302  Intel Celeron Dual Core N3050 1.6GHz    4            500GB HDD   \n",
              "\n",
              "                               Gpu       OpSys  Weight        Price  \\\n",
              "0     Intel Iris Plus Graphics 640       macOS    1.37   71378.6832   \n",
              "1           Intel HD Graphics 6000       macOS    1.34   47895.5232   \n",
              "2            Intel HD Graphics 620       No OS    1.86   30636.0000   \n",
              "3               AMD Radeon Pro 455       macOS    1.83  135195.3360   \n",
              "4     Intel Iris Plus Graphics 650       macOS    1.37   96095.8080   \n",
              "...                            ...         ...     ...          ...   \n",
              "1298         Intel HD Graphics 520  Windows 10    1.80   33992.6400   \n",
              "1299         Intel HD Graphics 520  Windows 10    1.30   79866.7200   \n",
              "1300             Intel HD Graphics  Windows 10    1.50   12201.1200   \n",
              "1301            AMD Radeon R5 M330  Windows 10    2.19   40705.9200   \n",
              "1302             Intel HD Graphics  Windows 10    2.20   19660.3200   \n",
              "\n",
              "      Touchscreen  \n",
              "0               0  \n",
              "1               0  \n",
              "2               0  \n",
              "3               0  \n",
              "4               0  \n",
              "...           ...  \n",
              "1298            1  \n",
              "1299            1  \n",
              "1300            0  \n",
              "1301            0  \n",
              "1302            0  \n",
              "\n",
              "[1303 rows x 13 columns]"
            ]
          },
          "execution_count": 169,
          "metadata": {},
          "output_type": "execute_result"
        }
      ],
      "source": [
        "df"
      ]
    },
    {
      "cell_type": "code",
      "execution_count": 170,
      "metadata": {
        "colab": {
          "base_uri": "https://localhost:8080/",
          "height": 466
        },
        "id": "ouD_bSgInO3a",
        "outputId": "4380a2ef-f3f8-4e85-a554-33420843a8d6"
      },
      "outputs": [
        {
          "data": {
            "text/plain": [
              "<Axes: xlabel='Touchscreen', ylabel='Price'>"
            ]
          },
          "execution_count": 170,
          "metadata": {},
          "output_type": "execute_result"
        },
        {
          "data": {
            "image/png": "[encoded data removed]",
            "text/plain": [
              "<Figure size 640x480 with 1 Axes>"
            ]
          },
          "metadata": {},
          "output_type": "display_data"
        }
      ],
      "source": [
        "sns.barplot(x='Touchscreen',y='Price',data=df)"
      ]
    },
    {
      "cell_type": "code",
      "execution_count": 171,
      "metadata": {
        "id": "jb6P5T40nO5i"
      },
      "outputs": [],
      "source": [
        "df['IPS']=df['ScreenResolution'].apply(lambda x: 1 if 'IPS' in x else 0)"
      ]
    },
    {
      "cell_type": "code",
      "execution_count": 172,
      "metadata": {
        "id": "F7gWmWUenO76"
      },
      "outputs": [],
      "source": [
        "new=df['ScreenResolution'].str.split('x',n=1,expand=True)"
      ]
    },
    {
      "cell_type": "code",
      "execution_count": 173,
      "metadata": {
        "colab": {
          "base_uri": "https://localhost:8080/",
          "height": 423
        },
        "id": "id_bJsTxnO-D",
        "outputId": "76d074bb-70c8-4db1-ee27-d3cec17fbb78"
      },
      "outputs": [
        {
          "data": {
            "text/html": [
              "<div>\n",
              "<style scoped>\n",
              "    .dataframe tbody tr th:only-of-type {\n",
              "        vertical-align: middle;\n",
              "    }\n",
              "\n",
              "    .dataframe tbody tr th {\n",
              "        vertical-align: top;\n",
              "    }\n",
              "\n",
              "    .dataframe thead th {\n",
              "        text-align: right;\n",
              "    }\n",
              "</style>\n",
              "<table border=\"1\" class=\"dataframe\">\n",
              "  <thead>\n",
              "    <tr style=\"text-align: right;\">\n",
              "      <th></th>\n",
              "      <th>0</th>\n",
              "      <th>1</th>\n",
              "    </tr>\n",
              "  </thead>\n",
              "  <tbody>\n",
              "    <tr>\n",
              "      <th>0</th>\n",
              "      <td>IPS Panel Retina Display 2560</td>\n",
              "      <td>1600</td>\n",
              "    </tr>\n",
              "    <tr>\n",
              "      <th>1</th>\n",
              "      <td>1440</td>\n",
              "      <td>900</td>\n",
              "    </tr>\n",
              "    <tr>\n",
              "      <th>2</th>\n",
              "      <td>Full HD 1920</td>\n",
              "      <td>1080</td>\n",
              "    </tr>\n",
              "    <tr>\n",
              "      <th>3</th>\n",
              "      <td>IPS Panel Retina Display 2880</td>\n",
              "      <td>1800</td>\n",
              "    </tr>\n",
              "    <tr>\n",
              "      <th>4</th>\n",
              "      <td>IPS Panel Retina Display 2560</td>\n",
              "      <td>1600</td>\n",
              "    </tr>\n",
              "    <tr>\n",
              "      <th>...</th>\n",
              "      <td>...</td>\n",
              "      <td>...</td>\n",
              "    </tr>\n",
              "    <tr>\n",
              "      <th>1298</th>\n",
              "      <td>IPS Panel Full HD / Touchscreen 1920</td>\n",
              "      <td>1080</td>\n",
              "    </tr>\n",
              "    <tr>\n",
              "      <th>1299</th>\n",
              "      <td>IPS Panel Quad HD+ / Touchscreen 3200</td>\n",
              "      <td>1800</td>\n",
              "    </tr>\n",
              "    <tr>\n",
              "      <th>1300</th>\n",
              "      <td>1366</td>\n",
              "      <td>768</td>\n",
              "    </tr>\n",
              "    <tr>\n",
              "      <th>1301</th>\n",
              "      <td>1366</td>\n",
              "      <td>768</td>\n",
              "    </tr>\n",
              "    <tr>\n",
              "      <th>1302</th>\n",
              "      <td>1366</td>\n",
              "      <td>768</td>\n",
              "    </tr>\n",
              "  </tbody>\n",
              "</table>\n",
              "<p>1303 rows × 2 columns</p>\n",
              "</div>"
            ],
            "text/plain": [
              "                                          0     1\n",
              "0             IPS Panel Retina Display 2560  1600\n",
              "1                                      1440   900\n",
              "2                              Full HD 1920  1080\n",
              "3             IPS Panel Retina Display 2880  1800\n",
              "4             IPS Panel Retina Display 2560  1600\n",
              "...                                     ...   ...\n",
              "1298   IPS Panel Full HD / Touchscreen 1920  1080\n",
              "1299  IPS Panel Quad HD+ / Touchscreen 3200  1800\n",
              "1300                                   1366   768\n",
              "1301                                   1366   768\n",
              "1302                                   1366   768\n",
              "\n",
              "[1303 rows x 2 columns]"
            ]
          },
          "execution_count": 173,
          "metadata": {},
          "output_type": "execute_result"
        }
      ],
      "source": [
        "new"
      ]
    },
    {
      "cell_type": "code",
      "execution_count": 174,
      "metadata": {
        "id": "_JaQcOp9nPBC"
      },
      "outputs": [],
      "source": [
        "df['X_res']=new[0]\n",
        "df['Y_res']=new[1]"
      ]
    },
    {
      "cell_type": "code",
      "execution_count": 175,
      "metadata": {
        "colab": {
          "base_uri": "https://localhost:8080/",
          "height": 538
        },
        "id": "_HVM5BVInPEj",
        "outputId": "ccca5e5c-c86e-4054-f6ab-37a4f4204988"
      },
      "outputs": [
        {
          "data": {
            "text/html": [
              "<div>\n",
              "<style scoped>\n",
              "    .dataframe tbody tr th:only-of-type {\n",
              "        vertical-align: middle;\n",
              "    }\n",
              "\n",
              "    .dataframe tbody tr th {\n",
              "        vertical-align: top;\n",
              "    }\n",
              "\n",
              "    .dataframe thead th {\n",
              "        text-align: right;\n",
              "    }\n",
              "</style>\n",
              "<table border=\"1\" class=\"dataframe\">\n",
              "  <thead>\n",
              "    <tr style=\"text-align: right;\">\n",
              "      <th></th>\n",
              "      <th>Unnamed: 0</th>\n",
              "      <th>Company</th>\n",
              "      <th>TypeName</th>\n",
              "      <th>Inches</th>\n",
              "      <th>ScreenResolution</th>\n",
              "      <th>Cpu</th>\n",
              "      <th>Ram</th>\n",
              "      <th>Memory</th>\n",
              "      <th>Gpu</th>\n",
              "      <th>OpSys</th>\n",
              "      <th>Weight</th>\n",
              "      <th>Price</th>\n",
              "      <th>Touchscreen</th>\n",
              "      <th>IPS</th>\n",
              "      <th>X_res</th>\n",
              "      <th>Y_res</th>\n",
              "    </tr>\n",
              "  </thead>\n",
              "  <tbody>\n",
              "    <tr>\n",
              "      <th>0</th>\n",
              "      <td>0</td>\n",
              "      <td>Apple</td>\n",
              "      <td>Ultrabook</td>\n",
              "      <td>13.3</td>\n",
              "      <td>IPS Panel Retina Display 2560x1600</td>\n",
              "      <td>Intel Core i5 2.3GHz</td>\n",
              "      <td>8</td>\n",
              "      <td>128GB SSD</td>\n",
              "      <td>Intel Iris Plus Graphics 640</td>\n",
              "      <td>macOS</td>\n",
              "      <td>1.37</td>\n",
              "      <td>71378.6832</td>\n",
              "      <td>0</td>\n",
              "      <td>1</td>\n",
              "      <td>IPS Panel Retina Display 2560</td>\n",
              "      <td>1600</td>\n",
              "    </tr>\n",
              "    <tr>\n",
              "      <th>1</th>\n",
              "      <td>1</td>\n",
              "      <td>Apple</td>\n",
              "      <td>Ultrabook</td>\n",
              "      <td>13.3</td>\n",
              "      <td>1440x900</td>\n",
              "      <td>Intel Core i5 1.8GHz</td>\n",
              "      <td>8</td>\n",
              "      <td>128GB Flash Storage</td>\n",
              "      <td>Intel HD Graphics 6000</td>\n",
              "      <td>macOS</td>\n",
              "      <td>1.34</td>\n",
              "      <td>47895.5232</td>\n",
              "      <td>0</td>\n",
              "      <td>0</td>\n",
              "      <td>1440</td>\n",
              "      <td>900</td>\n",
              "    </tr>\n",
              "    <tr>\n",
              "      <th>2</th>\n",
              "      <td>2</td>\n",
              "      <td>HP</td>\n",
              "      <td>Notebook</td>\n",
              "      <td>15.6</td>\n",
              "      <td>Full HD 1920x1080</td>\n",
              "      <td>Intel Core i5 7200U 2.5GHz</td>\n",
              "      <td>8</td>\n",
              "      <td>256GB SSD</td>\n",
              "      <td>Intel HD Graphics 620</td>\n",
              "      <td>No OS</td>\n",
              "      <td>1.86</td>\n",
              "      <td>30636.0000</td>\n",
              "      <td>0</td>\n",
              "      <td>0</td>\n",
              "      <td>Full HD 1920</td>\n",
              "      <td>1080</td>\n",
              "    </tr>\n",
              "    <tr>\n",
              "      <th>3</th>\n",
              "      <td>3</td>\n",
              "      <td>Apple</td>\n",
              "      <td>Ultrabook</td>\n",
              "      <td>15.4</td>\n",
              "      <td>IPS Panel Retina Display 2880x1800</td>\n",
              "      <td>Intel Core i7 2.7GHz</td>\n",
              "      <td>16</td>\n",
              "      <td>512GB SSD</td>\n",
              "      <td>AMD Radeon Pro 455</td>\n",
              "      <td>macOS</td>\n",
              "      <td>1.83</td>\n",
              "      <td>135195.3360</td>\n",
              "      <td>0</td>\n",
              "      <td>1</td>\n",
              "      <td>IPS Panel Retina Display 2880</td>\n",
              "      <td>1800</td>\n",
              "    </tr>\n",
              "    <tr>\n",
              "      <th>4</th>\n",
              "      <td>4</td>\n",
              "      <td>Apple</td>\n",
              "      <td>Ultrabook</td>\n",
              "      <td>13.3</td>\n",
              "      <td>IPS Panel Retina Display 2560x1600</td>\n",
              "      <td>Intel Core i5 3.1GHz</td>\n",
              "      <td>8</td>\n",
              "      <td>256GB SSD</td>\n",
              "      <td>Intel Iris Plus Graphics 650</td>\n",
              "      <td>macOS</td>\n",
              "      <td>1.37</td>\n",
              "      <td>96095.8080</td>\n",
              "      <td>0</td>\n",
              "      <td>1</td>\n",
              "      <td>IPS Panel Retina Display 2560</td>\n",
              "      <td>1600</td>\n",
              "    </tr>\n",
              "  </tbody>\n",
              "</table>\n",
              "</div>"
            ],
            "text/plain": [
              "   Unnamed: 0 Company   TypeName  Inches                    ScreenResolution  \\\n",
              "0           0   Apple  Ultrabook    13.3  IPS Panel Retina Display 2560x1600   \n",
              "1           1   Apple  Ultrabook    13.3                            1440x900   \n",
              "2           2      HP   Notebook    15.6                   Full HD 1920x1080   \n",
              "3           3   Apple  Ultrabook    15.4  IPS Panel Retina Display 2880x1800   \n",
              "4           4   Apple  Ultrabook    13.3  IPS Panel Retina Display 2560x1600   \n",
              "\n",
              "                          Cpu  Ram               Memory  \\\n",
              "0        Intel Core i5 2.3GHz    8            128GB SSD   \n",
              "1        Intel Core i5 1.8GHz    8  128GB Flash Storage   \n",
              "2  Intel Core i5 7200U 2.5GHz    8            256GB SSD   \n",
              "3        Intel Core i7 2.7GHz   16            512GB SSD   \n",
              "4        Intel Core i5 3.1GHz    8            256GB SSD   \n",
              "\n",
              "                            Gpu  OpSys  Weight        Price  Touchscreen  IPS  \\\n",
              "0  Intel Iris Plus Graphics 640  macOS    1.37   71378.6832            0    1   \n",
              "1        Intel HD Graphics 6000  macOS    1.34   47895.5232            0    0   \n",
              "2         Intel HD Graphics 620  No OS    1.86   30636.0000            0    0   \n",
              "3            AMD Radeon Pro 455  macOS    1.83  135195.3360            0    1   \n",
              "4  Intel Iris Plus Graphics 650  macOS    1.37   96095.8080            0    1   \n",
              "\n",
              "                           X_res Y_res  \n",
              "0  IPS Panel Retina Display 2560  1600  \n",
              "1                           1440   900  \n",
              "2                   Full HD 1920  1080  \n",
              "3  IPS Panel Retina Display 2880  1800  \n",
              "4  IPS Panel Retina Display 2560  1600  "
            ]
          },
          "execution_count": 175,
          "metadata": {},
          "output_type": "execute_result"
        }
      ],
      "source": [
        "df.head()"
      ]
    },
    {
      "cell_type": "code",
      "execution_count": 176,
      "metadata": {
        "id": "jzta7hyli1J_"
      },
      "outputs": [],
      "source": [
        "df['X_res']=df['X_res'].str.replace(',','').str.findall(r'(\\d+\\.?\\d+)').apply(lambda x: x[0])"
      ]
    },
    {
      "cell_type": "code",
      "execution_count": 177,
      "metadata": {
        "colab": {
          "base_uri": "https://localhost:8080/",
          "height": 458
        },
        "id": "dc0pmdx4qFRt",
        "outputId": "19a035e8-3ee2-487a-cb38-72d3205be8b1"
      },
      "outputs": [
        {
          "data": {
            "text/plain": [
              "0       2560\n",
              "1       1440\n",
              "2       1920\n",
              "3       2880\n",
              "4       2560\n",
              "        ... \n",
              "1298    1920\n",
              "1299    3200\n",
              "1300    1366\n",
              "1301    1366\n",
              "1302    1366\n",
              "Name: X_res, Length: 1303, dtype: object"
            ]
          },
          "execution_count": 177,
          "metadata": {},
          "output_type": "execute_result"
        }
      ],
      "source": [
        "df['X_res']"
      ]
    },
    {
      "cell_type": "code",
      "execution_count": 178,
      "metadata": {
        "id": "aUvSH4cbqFTv"
      },
      "outputs": [],
      "source": [
        "df['X_res']=df['X_res'].astype(int)\n",
        "df['Y_res']=df['Y_res'].astype(int)"
      ]
    },
    {
      "cell_type": "code",
      "execution_count": 179,
      "metadata": {
        "colab": {
          "base_uri": "https://localhost:8080/"
        },
        "id": "mVgXWgZDqFWR",
        "outputId": "0b10a0d3-9a99-4eff-a133-d525df6d1a68"
      },
      "outputs": [
        {
          "name": "stdout",
          "output_type": "stream",
          "text": [
            "Unnamed: 0     0.067984\n",
            "Inches         0.068197\n",
            "Ram            0.743007\n",
            "Weight         0.210370\n",
            "Price          1.000000\n",
            "Touchscreen    0.191226\n",
            "IPS            0.252208\n",
            "X_res          0.556529\n",
            "Y_res          0.552809\n",
            "Name: Price, dtype: float64\n"
          ]
        }
      ],
      "source": [
        "import pandas as pd\n",
        "import numpy as np\n",
        "\n",
        "\n",
        "# Select only numeric columns for correlation calculation\n",
        "numeric_df = df.select_dtypes(include=np.number)\n",
        "\n",
        "# Calculate correlation on the numeric DataFrame\n",
        "correlation = numeric_df.corr()['Price']\n",
        "\n",
        "print(correlation)"
      ]
    },
    {
      "cell_type": "code",
      "execution_count": 180,
      "metadata": {
        "id": "8gBQgD9ZqFYW"
      },
      "outputs": [],
      "source": [
        "#Calculating pixer per Inch\n",
        "df['ppi']=((df['X_res']**2)+(df['Y_res']**2))**0.5/df['Inches']"
      ]
    },
    {
      "cell_type": "code",
      "execution_count": 181,
      "metadata": {
        "colab": {
          "base_uri": "https://localhost:8080/"
        },
        "id": "NH_QZ88ZqFaQ",
        "outputId": "c3f8d31f-167d-4999-ef47-e08635be277c"
      },
      "outputs": [
        {
          "name": "stdout",
          "output_type": "stream",
          "text": [
            "Unnamed: 0     0.067984\n",
            "Inches         0.068197\n",
            "Ram            0.743007\n",
            "Weight         0.210370\n",
            "Price          1.000000\n",
            "Touchscreen    0.191226\n",
            "IPS            0.252208\n",
            "X_res          0.556529\n",
            "Y_res          0.552809\n",
            "ppi            0.473487\n",
            "Name: Price, dtype: float64\n"
          ]
        }
      ],
      "source": [
        "numeric_df = df.select_dtypes(include=np.number)\n",
        "\n",
        "# Calculate correlation on the numeric DataFrame\n",
        "correlation = numeric_df.corr()['Price']\n",
        "\n",
        "print(correlation)"
      ]
    },
    {
      "cell_type": "code",
      "execution_count": 182,
      "metadata": {
        "id": "pZCC5kRuqFcv"
      },
      "outputs": [],
      "source": [
        "df.drop(columns=['Inches','X_res','Y_res'],inplace=True)"
      ]
    },
    {
      "cell_type": "code",
      "execution_count": 183,
      "metadata": {
        "colab": {
          "base_uri": "https://localhost:8080/",
          "height": 469
        },
        "id": "7LjyD6mOqFfA",
        "outputId": "579ea5f1-3e6a-40c9-cebe-49b1232c4769"
      },
      "outputs": [
        {
          "data": {
            "text/html": [
              "<div>\n",
              "<style scoped>\n",
              "    .dataframe tbody tr th:only-of-type {\n",
              "        vertical-align: middle;\n",
              "    }\n",
              "\n",
              "    .dataframe tbody tr th {\n",
              "        vertical-align: top;\n",
              "    }\n",
              "\n",
              "    .dataframe thead th {\n",
              "        text-align: right;\n",
              "    }\n",
              "</style>\n",
              "<table border=\"1\" class=\"dataframe\">\n",
              "  <thead>\n",
              "    <tr style=\"text-align: right;\">\n",
              "      <th></th>\n",
              "      <th>Unnamed: 0</th>\n",
              "      <th>Company</th>\n",
              "      <th>TypeName</th>\n",
              "      <th>ScreenResolution</th>\n",
              "      <th>Cpu</th>\n",
              "      <th>Ram</th>\n",
              "      <th>Memory</th>\n",
              "      <th>Gpu</th>\n",
              "      <th>OpSys</th>\n",
              "      <th>Weight</th>\n",
              "      <th>Price</th>\n",
              "      <th>Touchscreen</th>\n",
              "      <th>IPS</th>\n",
              "      <th>ppi</th>\n",
              "    </tr>\n",
              "  </thead>\n",
              "  <tbody>\n",
              "    <tr>\n",
              "      <th>0</th>\n",
              "      <td>0</td>\n",
              "      <td>Apple</td>\n",
              "      <td>Ultrabook</td>\n",
              "      <td>IPS Panel Retina Display 2560x1600</td>\n",
              "      <td>Intel Core i5 2.3GHz</td>\n",
              "      <td>8</td>\n",
              "      <td>128GB SSD</td>\n",
              "      <td>Intel Iris Plus Graphics 640</td>\n",
              "      <td>macOS</td>\n",
              "      <td>1.37</td>\n",
              "      <td>71378.6832</td>\n",
              "      <td>0</td>\n",
              "      <td>1</td>\n",
              "      <td>226.983005</td>\n",
              "    </tr>\n",
              "    <tr>\n",
              "      <th>1</th>\n",
              "      <td>1</td>\n",
              "      <td>Apple</td>\n",
              "      <td>Ultrabook</td>\n",
              "      <td>1440x900</td>\n",
              "      <td>Intel Core i5 1.8GHz</td>\n",
              "      <td>8</td>\n",
              "      <td>128GB Flash Storage</td>\n",
              "      <td>Intel HD Graphics 6000</td>\n",
              "      <td>macOS</td>\n",
              "      <td>1.34</td>\n",
              "      <td>47895.5232</td>\n",
              "      <td>0</td>\n",
              "      <td>0</td>\n",
              "      <td>127.677940</td>\n",
              "    </tr>\n",
              "    <tr>\n",
              "      <th>2</th>\n",
              "      <td>2</td>\n",
              "      <td>HP</td>\n",
              "      <td>Notebook</td>\n",
              "      <td>Full HD 1920x1080</td>\n",
              "      <td>Intel Core i5 7200U 2.5GHz</td>\n",
              "      <td>8</td>\n",
              "      <td>256GB SSD</td>\n",
              "      <td>Intel HD Graphics 620</td>\n",
              "      <td>No OS</td>\n",
              "      <td>1.86</td>\n",
              "      <td>30636.0000</td>\n",
              "      <td>0</td>\n",
              "      <td>0</td>\n",
              "      <td>141.211998</td>\n",
              "    </tr>\n",
              "    <tr>\n",
              "      <th>3</th>\n",
              "      <td>3</td>\n",
              "      <td>Apple</td>\n",
              "      <td>Ultrabook</td>\n",
              "      <td>IPS Panel Retina Display 2880x1800</td>\n",
              "      <td>Intel Core i7 2.7GHz</td>\n",
              "      <td>16</td>\n",
              "      <td>512GB SSD</td>\n",
              "      <td>AMD Radeon Pro 455</td>\n",
              "      <td>macOS</td>\n",
              "      <td>1.83</td>\n",
              "      <td>135195.3360</td>\n",
              "      <td>0</td>\n",
              "      <td>1</td>\n",
              "      <td>220.534624</td>\n",
              "    </tr>\n",
              "    <tr>\n",
              "      <th>4</th>\n",
              "      <td>4</td>\n",
              "      <td>Apple</td>\n",
              "      <td>Ultrabook</td>\n",
              "      <td>IPS Panel Retina Display 2560x1600</td>\n",
              "      <td>Intel Core i5 3.1GHz</td>\n",
              "      <td>8</td>\n",
              "      <td>256GB SSD</td>\n",
              "      <td>Intel Iris Plus Graphics 650</td>\n",
              "      <td>macOS</td>\n",
              "      <td>1.37</td>\n",
              "      <td>96095.8080</td>\n",
              "      <td>0</td>\n",
              "      <td>1</td>\n",
              "      <td>226.983005</td>\n",
              "    </tr>\n",
              "  </tbody>\n",
              "</table>\n",
              "</div>"
            ],
            "text/plain": [
              "   Unnamed: 0 Company   TypeName                    ScreenResolution  \\\n",
              "0           0   Apple  Ultrabook  IPS Panel Retina Display 2560x1600   \n",
              "1           1   Apple  Ultrabook                            1440x900   \n",
              "2           2      HP   Notebook                   Full HD 1920x1080   \n",
              "3           3   Apple  Ultrabook  IPS Panel Retina Display 2880x1800   \n",
              "4           4   Apple  Ultrabook  IPS Panel Retina Display 2560x1600   \n",
              "\n",
              "                          Cpu  Ram               Memory  \\\n",
              "0        Intel Core i5 2.3GHz    8            128GB SSD   \n",
              "1        Intel Core i5 1.8GHz    8  128GB Flash Storage   \n",
              "2  Intel Core i5 7200U 2.5GHz    8            256GB SSD   \n",
              "3        Intel Core i7 2.7GHz   16            512GB SSD   \n",
              "4        Intel Core i5 3.1GHz    8            256GB SSD   \n",
              "\n",
              "                            Gpu  OpSys  Weight        Price  Touchscreen  IPS  \\\n",
              "0  Intel Iris Plus Graphics 640  macOS    1.37   71378.6832            0    1   \n",
              "1        Intel HD Graphics 6000  macOS    1.34   47895.5232            0    0   \n",
              "2         Intel HD Graphics 620  No OS    1.86   30636.0000            0    0   \n",
              "3            AMD Radeon Pro 455  macOS    1.83  135195.3360            0    1   \n",
              "4  Intel Iris Plus Graphics 650  macOS    1.37   96095.8080            0    1   \n",
              "\n",
              "          ppi  \n",
              "0  226.983005  \n",
              "1  127.677940  \n",
              "2  141.211998  \n",
              "3  220.534624  \n",
              "4  226.983005  "
            ]
          },
          "execution_count": 183,
          "metadata": {},
          "output_type": "execute_result"
        }
      ],
      "source": [
        "df.head()"
      ]
    },
    {
      "cell_type": "code",
      "execution_count": 184,
      "metadata": {
        "colab": {
          "base_uri": "https://localhost:8080/",
          "height": 489
        },
        "id": "7oTyk2v0qFhb",
        "outputId": "5dd372e5-a35f-492e-d772-2191c035b882"
      },
      "outputs": [
        {
          "data": {
            "text/plain": [
              "Cpu\n",
              "Intel Core i5 7200U 2.5GHz       190\n",
              "Intel Core i7 7700HQ 2.8GHz      146\n",
              "Intel Core i7 7500U 2.7GHz       134\n",
              "Intel Core i7 8550U 1.8GHz        73\n",
              "Intel Core i5 8250U 1.6GHz        72\n",
              "                                ... \n",
              "Intel Core M M3-6Y30 0.9GHz        1\n",
              "AMD A9-Series 9420 2.9GHz          1\n",
              "Intel Core i3 6006U 2.2GHz         1\n",
              "AMD A6-Series 7310 2GHz            1\n",
              "Intel Xeon E3-1535M v6 3.1GHz      1\n",
              "Name: count, Length: 118, dtype: int64"
            ]
          },
          "execution_count": 184,
          "metadata": {},
          "output_type": "execute_result"
        }
      ],
      "source": [
        "df['Cpu'].value_counts()"
      ]
    },
    {
      "cell_type": "code",
      "execution_count": 185,
      "metadata": {
        "id": "r15BUM6DqFjh"
      },
      "outputs": [],
      "source": [
        "df['Cpu_Name']=df['Cpu'].apply(lambda x: ' '.join(x.split()[0:3]))"
      ]
    },
    {
      "cell_type": "code",
      "execution_count": 186,
      "metadata": {
        "colab": {
          "base_uri": "https://localhost:8080/",
          "height": 458
        },
        "id": "MkiJD5DQqFl0",
        "outputId": "48d774ca-e158-49f5-a71b-e95e97db5418"
      },
      "outputs": [
        {
          "data": {
            "text/plain": [
              "0            Intel Core i5\n",
              "1            Intel Core i5\n",
              "2            Intel Core i5\n",
              "3            Intel Core i7\n",
              "4            Intel Core i5\n",
              "               ...        \n",
              "1298         Intel Core i7\n",
              "1299         Intel Core i7\n",
              "1300    Intel Celeron Dual\n",
              "1301         Intel Core i7\n",
              "1302    Intel Celeron Dual\n",
              "Name: Cpu_Name, Length: 1303, dtype: object"
            ]
          },
          "execution_count": 186,
          "metadata": {},
          "output_type": "execute_result"
        }
      ],
      "source": [
        "df['Cpu_Name']"
      ]
    },
    {
      "cell_type": "code",
      "execution_count": 187,
      "metadata": {
        "id": "yqJJkv8Nvab2"
      },
      "outputs": [],
      "source": [
        "def fetch_processor(text):\n",
        "    if text == 'Intel Core i7' or text == 'Intel Core i5' or text == 'Intel Core i3':\n",
        "        return text\n",
        "    else:\n",
        "      if text.split()[0] == 'Intel':\n",
        "        return 'Other Intel Processor'\n",
        "      else:\n",
        "        return 'AMD Processor'"
      ]
    },
    {
      "cell_type": "code",
      "execution_count": 188,
      "metadata": {
        "id": "lvVjcTHYvaeH"
      },
      "outputs": [],
      "source": [
        "df['Cpu_Brand']=df['Cpu_Name'].apply(fetch_processor)"
      ]
    },
    {
      "cell_type": "code",
      "execution_count": 189,
      "metadata": {
        "colab": {
          "base_uri": "https://localhost:8080/",
          "height": 598
        },
        "id": "D9zIJ8iwvagI",
        "outputId": "e470a4ca-5b0b-40b5-8f59-763c76148e28"
      },
      "outputs": [
        {
          "data": {
            "text/plain": [
              "<Axes: xlabel='Cpu_Brand'>"
            ]
          },
          "execution_count": 189,
          "metadata": {},
          "output_type": "execute_result"
        },
        {
          "data": {
            "image/png": "[encoded data removed]",
            "text/plain": [
              "<Figure size 640x480 with 1 Axes>"
            ]
          },
          "metadata": {},
          "output_type": "display_data"
        }
      ],
      "source": [
        "df['Cpu_Brand'].value_counts().plot(kind='bar')"
      ]
    },
    {
      "cell_type": "code",
      "execution_count": 190,
      "metadata": {
        "colab": {
          "base_uri": "https://localhost:8080/",
          "height": 467
        },
        "id": "13sAUjSJvaiQ",
        "outputId": "b4591117-2a07-4f49-bd2d-9848f13a93cb"
      },
      "outputs": [
        {
          "data": {
            "text/plain": [
              "<Axes: xlabel='Cpu_Brand', ylabel='Price'>"
            ]
          },
          "execution_count": 190,
          "metadata": {},
          "output_type": "execute_result"
        },
        {
          "data": {
            "image/png": "[encoded data removed]",
            "text/plain": [
              "<Figure size 640x480 with 1 Axes>"
            ]
          },
          "metadata": {},
          "output_type": "display_data"
        }
      ],
      "source": [
        "sns.scatterplot(x='Cpu_Brand',y='Price',data=df)"
      ]
    },
    {
      "cell_type": "code",
      "execution_count": 191,
      "metadata": {
        "id": "WavFCkpFvaj-"
      },
      "outputs": [],
      "source": [
        "df.drop(columns=['Cpu','Cpu_Name'],inplace=True)"
      ]
    },
    {
      "cell_type": "code",
      "execution_count": 192,
      "metadata": {
        "colab": {
          "base_uri": "https://localhost:8080/",
          "height": 397
        },
        "id": "LIOxL2qrvamg",
        "outputId": "a93902bc-a545-4499-a87f-02d7e33f6f19"
      },
      "outputs": [
        {
          "data": {
            "text/plain": [
              "Ram\n",
              "8     619\n",
              "4     375\n",
              "16    200\n",
              "6      41\n",
              "12     25\n",
              "2      22\n",
              "32     17\n",
              "24      3\n",
              "64      1\n",
              "Name: count, dtype: int64"
            ]
          },
          "execution_count": 192,
          "metadata": {},
          "output_type": "execute_result"
        }
      ],
      "source": [
        "df['Ram'].value_counts()"
      ]
    },
    {
      "cell_type": "code",
      "execution_count": 193,
      "metadata": {
        "colab": {
          "base_uri": "https://localhost:8080/",
          "height": 453
        },
        "id": "9U8eEXeOvao5",
        "outputId": "e7c8b7dc-0e42-4397-e5a0-221032f811e0"
      },
      "outputs": [
        {
          "data": {
            "image/png": "[encoded data removed]",
            "text/plain": [
              "<Figure size 640x480 with 1 Axes>"
            ]
          },
          "metadata": {},
          "output_type": "display_data"
        }
      ],
      "source": [
        "sns.barplot(x='Ram',y='Price',data=df)\n",
        "plt.xticks(rotation='vertical')\n",
        "plt.show()"
      ]
    },
    {
      "cell_type": "code",
      "execution_count": 194,
      "metadata": {
        "colab": {
          "base_uri": "https://localhost:8080/",
          "height": 1000
        },
        "id": "TPuhXct3vaqu",
        "outputId": "44e176b1-86c7-4ea9-b759-2b520317624b"
      },
      "outputs": [
        {
          "data": {
            "text/plain": [
              "Memory\n",
              "256GB SSD                        412\n",
              "1TB HDD                          223\n",
              "500GB HDD                        132\n",
              "512GB SSD                        118\n",
              "128GB SSD +  1TB HDD              94\n",
              "128GB SSD                         76\n",
              "256GB SSD +  1TB HDD              73\n",
              "32GB Flash Storage                38\n",
              "2TB HDD                           16\n",
              "64GB Flash Storage                15\n",
              "512GB SSD +  1TB HDD              14\n",
              "1TB SSD                           14\n",
              "256GB SSD +  2TB HDD              10\n",
              "1.0TB Hybrid                       9\n",
              "256GB Flash Storage                8\n",
              "16GB Flash Storage                 7\n",
              "32GB SSD                           6\n",
              "180GB SSD                          5\n",
              "128GB Flash Storage                4\n",
              "512GB SSD +  2TB HDD               3\n",
              "16GB SSD                           3\n",
              "512GB Flash Storage                2\n",
              "1TB SSD +  1TB HDD                 2\n",
              "256GB SSD +  500GB HDD             2\n",
              "128GB SSD +  2TB HDD               2\n",
              "256GB SSD +  256GB SSD             2\n",
              "512GB SSD +  256GB SSD             1\n",
              "512GB SSD +  512GB SSD             1\n",
              "64GB Flash Storage +  1TB HDD      1\n",
              "1TB HDD +  1TB HDD                 1\n",
              "32GB HDD                           1\n",
              "64GB SSD                           1\n",
              "128GB HDD                          1\n",
              "240GB SSD                          1\n",
              "8GB SSD                            1\n",
              "508GB Hybrid                       1\n",
              "1.0TB HDD                          1\n",
              "512GB SSD +  1.0TB Hybrid          1\n",
              "256GB SSD +  1.0TB Hybrid          1\n",
              "Name: count, dtype: int64"
            ]
          },
          "execution_count": 194,
          "metadata": {},
          "output_type": "execute_result"
        }
      ],
      "source": [
        "df['Memory'].value_counts()"
      ]
    },
    {
      "cell_type": "code",
      "execution_count": 195,
      "metadata": {
        "id": "75R4WKIvvayA"
      },
      "outputs": [],
      "source": [
        "def memory_split(memory):\n",
        "    if isinstance(memory, str):\n",
        "        memory = memory.strip()\n",
        "        if 'GB' in memory:\n",
        "            if 'SSD' in memory and 'HDD' in memory:\n",
        "                parts = memory.split('+')\n",
        "                ssd_part = parts[0].strip()\n",
        "                hdd_part = parts[1].strip()\n",
        "\n",
        "                # Extract the numeric part for SSD, handling potential TB units\n",
        "                ssd_gb = int(float(ssd_part.split('GB')[0].split('TB')[0]) * (1024 if 'TB' in ssd_part else 1))\n",
        "\n",
        "                # Extract the numeric part for HDD, handling potential TB units\n",
        "                hdd_gb = int(float(hdd_part.split('GB')[0].split('TB')[0]) * (1024 if 'TB' in hdd_part else 1))\n",
        "\n",
        "                return ssd_gb, hdd_gb\n",
        "            elif 'SSD' in memory:\n",
        "                ssd_gb = int(float(memory.split('GB')[0].split('TB')[0]) * (1024 if 'TB' in memory else 1))\n",
        "                return ssd_gb, 0\n",
        "            elif 'HDD' in memory:\n",
        "                hdd_gb = int(float(memory.split('GB')[0].split('TB')[0]) * (1024 if 'TB' in memory else 1))\n",
        "                return 0, hdd_gb\n",
        "            else:\n",
        "                return 0, 0\n",
        "        elif 'TB' in memory:\n",
        "            if 'SSD' in memory and 'HDD' in memory:\n",
        "                parts = memory.split('+')\n",
        "                ssd_part = parts[0].strip()\n",
        "                hdd_part = parts[1].strip()\n",
        "                ssd_gb = int(float(ssd_part.split('TB')[0]) * 1024)\n",
        "                hdd_gb = int(float(hdd_part.split('TB')[0]) * 1024)\n",
        "                return ssd_gb, hdd_gb\n",
        "            elif 'SSD' in memory:\n",
        "                ssd_gb = int(float(memory.split('TB')[0]) * 1024)\n",
        "                return ssd_gb, 0\n",
        "            elif 'HDD' in memory:\n",
        "                hdd_gb = int(float(memory.split('TB')[0]) * 1024)\n",
        "                return 0, hdd_gb\n",
        "            else:\n",
        "                return 0, 0\n",
        "        else:\n",
        "            return 0, 0\n",
        "    else:\n",
        "        return 0, 0\n",
        "import pandas as pd\n",
        "df[['SSD_Memory', 'HDD_Memory']] = df['Memory'].apply(memory_split).apply(pd.Series)"
      ]
    },
    {
      "cell_type": "code",
      "execution_count": 196,
      "metadata": {
        "colab": {
          "base_uri": "https://localhost:8080/",
          "height": 842
        },
        "id": "hnkRt6wAqFpw",
        "outputId": "af2ccd3c-41a2-4f2f-e133-726916f67a72"
      },
      "outputs": [
        {
          "data": {
            "text/html": [
              "<div>\n",
              "<style scoped>\n",
              "    .dataframe tbody tr th:only-of-type {\n",
              "        vertical-align: middle;\n",
              "    }\n",
              "\n",
              "    .dataframe tbody tr th {\n",
              "        vertical-align: top;\n",
              "    }\n",
              "\n",
              "    .dataframe thead th {\n",
              "        text-align: right;\n",
              "    }\n",
              "</style>\n",
              "<table border=\"1\" class=\"dataframe\">\n",
              "  <thead>\n",
              "    <tr style=\"text-align: right;\">\n",
              "      <th></th>\n",
              "      <th>Unnamed: 0</th>\n",
              "      <th>Company</th>\n",
              "      <th>TypeName</th>\n",
              "      <th>ScreenResolution</th>\n",
              "      <th>Ram</th>\n",
              "      <th>Memory</th>\n",
              "      <th>Gpu</th>\n",
              "      <th>OpSys</th>\n",
              "      <th>Weight</th>\n",
              "      <th>Price</th>\n",
              "      <th>Touchscreen</th>\n",
              "      <th>IPS</th>\n",
              "      <th>ppi</th>\n",
              "      <th>Cpu_Brand</th>\n",
              "      <th>SSD_Memory</th>\n",
              "      <th>HDD_Memory</th>\n",
              "    </tr>\n",
              "  </thead>\n",
              "  <tbody>\n",
              "    <tr>\n",
              "      <th>0</th>\n",
              "      <td>0</td>\n",
              "      <td>Apple</td>\n",
              "      <td>Ultrabook</td>\n",
              "      <td>IPS Panel Retina Display 2560x1600</td>\n",
              "      <td>8</td>\n",
              "      <td>128GB SSD</td>\n",
              "      <td>Intel Iris Plus Graphics 640</td>\n",
              "      <td>macOS</td>\n",
              "      <td>1.37</td>\n",
              "      <td>71378.6832</td>\n",
              "      <td>0</td>\n",
              "      <td>1</td>\n",
              "      <td>226.983005</td>\n",
              "      <td>Intel Core i5</td>\n",
              "      <td>128</td>\n",
              "      <td>0</td>\n",
              "    </tr>\n",
              "    <tr>\n",
              "      <th>1</th>\n",
              "      <td>1</td>\n",
              "      <td>Apple</td>\n",
              "      <td>Ultrabook</td>\n",
              "      <td>1440x900</td>\n",
              "      <td>8</td>\n",
              "      <td>128GB Flash Storage</td>\n",
              "      <td>Intel HD Graphics 6000</td>\n",
              "      <td>macOS</td>\n",
              "      <td>1.34</td>\n",
              "      <td>47895.5232</td>\n",
              "      <td>0</td>\n",
              "      <td>0</td>\n",
              "      <td>127.677940</td>\n",
              "      <td>Intel Core i5</td>\n",
              "      <td>0</td>\n",
              "      <td>0</td>\n",
              "    </tr>\n",
              "    <tr>\n",
              "      <th>2</th>\n",
              "      <td>2</td>\n",
              "      <td>HP</td>\n",
              "      <td>Notebook</td>\n",
              "      <td>Full HD 1920x1080</td>\n",
              "      <td>8</td>\n",
              "      <td>256GB SSD</td>\n",
              "      <td>Intel HD Graphics 620</td>\n",
              "      <td>No OS</td>\n",
              "      <td>1.86</td>\n",
              "      <td>30636.0000</td>\n",
              "      <td>0</td>\n",
              "      <td>0</td>\n",
              "      <td>141.211998</td>\n",
              "      <td>Intel Core i5</td>\n",
              "      <td>256</td>\n",
              "      <td>0</td>\n",
              "    </tr>\n",
              "    <tr>\n",
              "      <th>3</th>\n",
              "      <td>3</td>\n",
              "      <td>Apple</td>\n",
              "      <td>Ultrabook</td>\n",
              "      <td>IPS Panel Retina Display 2880x1800</td>\n",
              "      <td>16</td>\n",
              "      <td>512GB SSD</td>\n",
              "      <td>AMD Radeon Pro 455</td>\n",
              "      <td>macOS</td>\n",
              "      <td>1.83</td>\n",
              "      <td>135195.3360</td>\n",
              "      <td>0</td>\n",
              "      <td>1</td>\n",
              "      <td>220.534624</td>\n",
              "      <td>Intel Core i7</td>\n",
              "      <td>512</td>\n",
              "      <td>0</td>\n",
              "    </tr>\n",
              "    <tr>\n",
              "      <th>4</th>\n",
              "      <td>4</td>\n",
              "      <td>Apple</td>\n",
              "      <td>Ultrabook</td>\n",
              "      <td>IPS Panel Retina Display 2560x1600</td>\n",
              "      <td>8</td>\n",
              "      <td>256GB SSD</td>\n",
              "      <td>Intel Iris Plus Graphics 650</td>\n",
              "      <td>macOS</td>\n",
              "      <td>1.37</td>\n",
              "      <td>96095.8080</td>\n",
              "      <td>0</td>\n",
              "      <td>1</td>\n",
              "      <td>226.983005</td>\n",
              "      <td>Intel Core i5</td>\n",
              "      <td>256</td>\n",
              "      <td>0</td>\n",
              "    </tr>\n",
              "    <tr>\n",
              "      <th>...</th>\n",
              "      <td>...</td>\n",
              "      <td>...</td>\n",
              "      <td>...</td>\n",
              "      <td>...</td>\n",
              "      <td>...</td>\n",
              "      <td>...</td>\n",
              "      <td>...</td>\n",
              "      <td>...</td>\n",
              "      <td>...</td>\n",
              "      <td>...</td>\n",
              "      <td>...</td>\n",
              "      <td>...</td>\n",
              "      <td>...</td>\n",
              "      <td>...</td>\n",
              "      <td>...</td>\n",
              "      <td>...</td>\n",
              "    </tr>\n",
              "    <tr>\n",
              "      <th>1298</th>\n",
              "      <td>1298</td>\n",
              "      <td>Lenovo</td>\n",
              "      <td>2 in 1 Convertible</td>\n",
              "      <td>IPS Panel Full HD / Touchscreen 1920x1080</td>\n",
              "      <td>4</td>\n",
              "      <td>128GB SSD</td>\n",
              "      <td>Intel HD Graphics 520</td>\n",
              "      <td>Windows 10</td>\n",
              "      <td>1.80</td>\n",
              "      <td>33992.6400</td>\n",
              "      <td>1</td>\n",
              "      <td>1</td>\n",
              "      <td>157.350512</td>\n",
              "      <td>Intel Core i7</td>\n",
              "      <td>128</td>\n",
              "      <td>0</td>\n",
              "    </tr>\n",
              "    <tr>\n",
              "      <th>1299</th>\n",
              "      <td>1299</td>\n",
              "      <td>Lenovo</td>\n",
              "      <td>2 in 1 Convertible</td>\n",
              "      <td>IPS Panel Quad HD+ / Touchscreen 3200x1800</td>\n",
              "      <td>16</td>\n",
              "      <td>512GB SSD</td>\n",
              "      <td>Intel HD Graphics 520</td>\n",
              "      <td>Windows 10</td>\n",
              "      <td>1.30</td>\n",
              "      <td>79866.7200</td>\n",
              "      <td>1</td>\n",
              "      <td>1</td>\n",
              "      <td>276.053530</td>\n",
              "      <td>Intel Core i7</td>\n",
              "      <td>512</td>\n",
              "      <td>0</td>\n",
              "    </tr>\n",
              "    <tr>\n",
              "      <th>1300</th>\n",
              "      <td>1300</td>\n",
              "      <td>Lenovo</td>\n",
              "      <td>Notebook</td>\n",
              "      <td>1366x768</td>\n",
              "      <td>2</td>\n",
              "      <td>64GB Flash Storage</td>\n",
              "      <td>Intel HD Graphics</td>\n",
              "      <td>Windows 10</td>\n",
              "      <td>1.50</td>\n",
              "      <td>12201.1200</td>\n",
              "      <td>0</td>\n",
              "      <td>0</td>\n",
              "      <td>111.935204</td>\n",
              "      <td>Other Intel Processor</td>\n",
              "      <td>0</td>\n",
              "      <td>0</td>\n",
              "    </tr>\n",
              "    <tr>\n",
              "      <th>1301</th>\n",
              "      <td>1301</td>\n",
              "      <td>HP</td>\n",
              "      <td>Notebook</td>\n",
              "      <td>1366x768</td>\n",
              "      <td>6</td>\n",
              "      <td>1TB HDD</td>\n",
              "      <td>AMD Radeon R5 M330</td>\n",
              "      <td>Windows 10</td>\n",
              "      <td>2.19</td>\n",
              "      <td>40705.9200</td>\n",
              "      <td>0</td>\n",
              "      <td>0</td>\n",
              "      <td>100.454670</td>\n",
              "      <td>Intel Core i7</td>\n",
              "      <td>0</td>\n",
              "      <td>1024</td>\n",
              "    </tr>\n",
              "    <tr>\n",
              "      <th>1302</th>\n",
              "      <td>1302</td>\n",
              "      <td>Asus</td>\n",
              "      <td>Notebook</td>\n",
              "      <td>1366x768</td>\n",
              "      <td>4</td>\n",
              "      <td>500GB HDD</td>\n",
              "      <td>Intel HD Graphics</td>\n",
              "      <td>Windows 10</td>\n",
              "      <td>2.20</td>\n",
              "      <td>19660.3200</td>\n",
              "      <td>0</td>\n",
              "      <td>0</td>\n",
              "      <td>100.454670</td>\n",
              "      <td>Other Intel Processor</td>\n",
              "      <td>0</td>\n",
              "      <td>500</td>\n",
              "    </tr>\n",
              "  </tbody>\n",
              "</table>\n",
              "<p>1303 rows × 16 columns</p>\n",
              "</div>"
            ],
            "text/plain": [
              "      Unnamed: 0 Company            TypeName  \\\n",
              "0              0   Apple           Ultrabook   \n",
              "1              1   Apple           Ultrabook   \n",
              "2              2      HP            Notebook   \n",
              "3              3   Apple           Ultrabook   \n",
              "4              4   Apple           Ultrabook   \n",
              "...          ...     ...                 ...   \n",
              "1298        1298  Lenovo  2 in 1 Convertible   \n",
              "1299        1299  Lenovo  2 in 1 Convertible   \n",
              "1300        1300  Lenovo            Notebook   \n",
              "1301        1301      HP            Notebook   \n",
              "1302        1302    Asus            Notebook   \n",
              "\n",
              "                                ScreenResolution  Ram               Memory  \\\n",
              "0             IPS Panel Retina Display 2560x1600    8            128GB SSD   \n",
              "1                                       1440x900    8  128GB Flash Storage   \n",
              "2                              Full HD 1920x1080    8            256GB SSD   \n",
              "3             IPS Panel Retina Display 2880x1800   16            512GB SSD   \n",
              "4             IPS Panel Retina Display 2560x1600    8            256GB SSD   \n",
              "...                                          ...  ...                  ...   \n",
              "1298   IPS Panel Full HD / Touchscreen 1920x1080    4            128GB SSD   \n",
              "1299  IPS Panel Quad HD+ / Touchscreen 3200x1800   16            512GB SSD   \n",
              "1300                                    1366x768    2   64GB Flash Storage   \n",
              "1301                                    1366x768    6              1TB HDD   \n",
              "1302                                    1366x768    4            500GB HDD   \n",
              "\n",
              "                               Gpu       OpSys  Weight        Price  \\\n",
              "0     Intel Iris Plus Graphics 640       macOS    1.37   71378.6832   \n",
              "1           Intel HD Graphics 6000       macOS    1.34   47895.5232   \n",
              "2            Intel HD Graphics 620       No OS    1.86   30636.0000   \n",
              "3               AMD Radeon Pro 455       macOS    1.83  135195.3360   \n",
              "4     Intel Iris Plus Graphics 650       macOS    1.37   96095.8080   \n",
              "...                            ...         ...     ...          ...   \n",
              "1298         Intel HD Graphics 520  Windows 10    1.80   33992.6400   \n",
              "1299         Intel HD Graphics 520  Windows 10    1.30   79866.7200   \n",
              "1300             Intel HD Graphics  Windows 10    1.50   12201.1200   \n",
              "1301            AMD Radeon R5 M330  Windows 10    2.19   40705.9200   \n",
              "1302             Intel HD Graphics  Windows 10    2.20   19660.3200   \n",
              "\n",
              "      Touchscreen  IPS         ppi              Cpu_Brand  SSD_Memory  \\\n",
              "0               0    1  226.983005          Intel Core i5         128   \n",
              "1               0    0  127.677940          Intel Core i5           0   \n",
              "2               0    0  141.211998          Intel Core i5         256   \n",
              "3               0    1  220.534624          Intel Core i7         512   \n",
              "4               0    1  226.983005          Intel Core i5         256   \n",
              "...           ...  ...         ...                    ...         ...   \n",
              "1298            1    1  157.350512          Intel Core i7         128   \n",
              "1299            1    1  276.053530          Intel Core i7         512   \n",
              "1300            0    0  111.935204  Other Intel Processor           0   \n",
              "1301            0    0  100.454670          Intel Core i7           0   \n",
              "1302            0    0  100.454670  Other Intel Processor           0   \n",
              "\n",
              "      HDD_Memory  \n",
              "0              0  \n",
              "1              0  \n",
              "2              0  \n",
              "3              0  \n",
              "4              0  \n",
              "...          ...  \n",
              "1298           0  \n",
              "1299           0  \n",
              "1300           0  \n",
              "1301        1024  \n",
              "1302         500  \n",
              "\n",
              "[1303 rows x 16 columns]"
            ]
          },
          "execution_count": 196,
          "metadata": {},
          "output_type": "execute_result"
        }
      ],
      "source": [
        "df"
      ]
    },
    {
      "cell_type": "code",
      "execution_count": 197,
      "metadata": {
        "colab": {
          "base_uri": "https://localhost:8080/"
        },
        "id": "OCMzkXoyi1OD",
        "outputId": "39590680-e3f4-4303-a591-3d6774907b86"
      },
      "outputs": [
        {
          "name": "stdout",
          "output_type": "stream",
          "text": [
            "Unnamed: 0     0.067984\n",
            "Ram            0.743007\n",
            "Weight         0.210370\n",
            "Price          1.000000\n",
            "Touchscreen    0.191226\n",
            "IPS            0.252208\n",
            "ppi            0.473487\n",
            "SSD_Memory     0.111644\n",
            "HDD_Memory     0.006440\n",
            "Name: Price, dtype: float64\n"
          ]
        }
      ],
      "source": [
        "numeric_df = df.select_dtypes(include=np.number)\n",
        "\n",
        "# Calculate correlation on the numeric DataFrame\n",
        "correlation = numeric_df.corr()['Price']\n",
        "\n",
        "print(correlation)"
      ]
    },
    {
      "cell_type": "code",
      "execution_count": 198,
      "metadata": {
        "colab": {
          "base_uri": "https://localhost:8080/",
          "height": 489
        },
        "id": "XwFNAd0wzMd3",
        "outputId": "f244702a-ea69-4020-ba1c-13fc06125f28"
      },
      "outputs": [
        {
          "data": {
            "text/plain": [
              "Gpu\n",
              "Intel HD Graphics 620      281\n",
              "Intel HD Graphics 520      185\n",
              "Intel UHD Graphics 620      68\n",
              "Nvidia GeForce GTX 1050     66\n",
              "Nvidia GeForce GTX 1060     48\n",
              "                          ... \n",
              "AMD Radeon R5 520            1\n",
              "AMD Radeon R7                1\n",
              "Intel HD Graphics 540        1\n",
              "AMD Radeon 540               1\n",
              "ARM Mali T860 MP4            1\n",
              "Name: count, Length: 110, dtype: int64"
            ]
          },
          "execution_count": 198,
          "metadata": {},
          "output_type": "execute_result"
        }
      ],
      "source": [
        "df['Gpu'].value_counts()"
      ]
    },
    {
      "cell_type": "code",
      "execution_count": 199,
      "metadata": {
        "id": "Ack6-6qMzMgG"
      },
      "outputs": [],
      "source": [
        "df['Gpu_Brand']=df['Gpu'].apply(lambda x: x.split()[0])"
      ]
    },
    {
      "cell_type": "code",
      "execution_count": 200,
      "metadata": {
        "colab": {
          "base_uri": "https://localhost:8080/",
          "height": 458
        },
        "id": "1oQ0kmZ3zMic",
        "outputId": "116d35a9-4755-4789-eb0c-137ddb952772"
      },
      "outputs": [
        {
          "data": {
            "text/plain": [
              "0       Intel\n",
              "1       Intel\n",
              "2       Intel\n",
              "3         AMD\n",
              "4       Intel\n",
              "        ...  \n",
              "1298    Intel\n",
              "1299    Intel\n",
              "1300    Intel\n",
              "1301      AMD\n",
              "1302    Intel\n",
              "Name: Gpu_Brand, Length: 1303, dtype: object"
            ]
          },
          "execution_count": 200,
          "metadata": {},
          "output_type": "execute_result"
        }
      ],
      "source": [
        "df['Gpu_Brand']"
      ]
    },
    {
      "cell_type": "code",
      "execution_count": 201,
      "metadata": {
        "colab": {
          "base_uri": "https://localhost:8080/",
          "height": 496
        },
        "id": "vNOrUcs7zMk5",
        "outputId": "0968b468-2913-4901-a6ac-bdb66b2faba7"
      },
      "outputs": [
        {
          "data": {
            "text/plain": [
              "<Axes: xlabel='Gpu_Brand'>"
            ]
          },
          "execution_count": 201,
          "metadata": {},
          "output_type": "execute_result"
        },
        {
          "data": {
            "image/png": "[encoded data removed]",
            "text/plain": [
              "<Figure size 640x480 with 1 Axes>"
            ]
          },
          "metadata": {},
          "output_type": "display_data"
        }
      ],
      "source": [
        "df['Gpu_Brand'].value_counts().plot(kind='bar')"
      ]
    },
    {
      "cell_type": "code",
      "execution_count": 202,
      "metadata": {
        "id": "Z2aZmTKYzMnP"
      },
      "outputs": [],
      "source": [
        "df=df[df['Gpu_Brand']!='ARM']"
      ]
    },
    {
      "cell_type": "code",
      "execution_count": 203,
      "metadata": {
        "colab": {
          "base_uri": "https://localhost:8080/",
          "height": 479
        },
        "id": "gIzXD9Xo1SwF",
        "outputId": "96401d84-2199-4b79-ed2d-5ef5c7afb97b"
      },
      "outputs": [
        {
          "data": {
            "image/png": "[encoded data removed]",
            "text/plain": [
              "<Figure size 640x480 with 1 Axes>"
            ]
          },
          "metadata": {},
          "output_type": "display_data"
        }
      ],
      "source": [
        "sns.barplot(x='Gpu_Brand',y='Price',data=df)\n",
        "plt.xticks(rotation='vertical')\n",
        "plt.show()"
      ]
    },
    {
      "cell_type": "code",
      "execution_count": 204,
      "metadata": {
        "colab": {
          "base_uri": "https://localhost:8080/",
          "height": 397
        },
        "id": "BQ8qRYT81SyJ",
        "outputId": "827a16b7-6fc4-428f-c1cb-544ef26b3b4b"
      },
      "outputs": [
        {
          "data": {
            "text/plain": [
              "OpSys\n",
              "Windows 10      1072\n",
              "No OS             66\n",
              "Linux             62\n",
              "Windows 7         45\n",
              "Chrome OS         26\n",
              "macOS             13\n",
              "Mac OS X           8\n",
              "Windows 10 S       8\n",
              "Android            2\n",
              "Name: count, dtype: int64"
            ]
          },
          "execution_count": 204,
          "metadata": {},
          "output_type": "execute_result"
        }
      ],
      "source": [
        "df['OpSys'].value_counts()"
      ]
    },
    {
      "cell_type": "code",
      "execution_count": 205,
      "metadata": {
        "colab": {
          "base_uri": "https://localhost:8080/",
          "height": 533
        },
        "id": "DXRe6s4v1S0x",
        "outputId": "b7e5cae3-4c13-49be-971c-2fe132d07d46"
      },
      "outputs": [
        {
          "data": {
            "image/png": "[encoded data removed]",
            "text/plain": [
              "<Figure size 640x480 with 1 Axes>"
            ]
          },
          "metadata": {},
          "output_type": "display_data"
        }
      ],
      "source": [
        "sns.barplot(x='OpSys',y='Price',data=df)\n",
        "plt.xticks(rotation='vertical')\n",
        "plt.show()"
      ]
    },
    {
      "cell_type": "code",
      "execution_count": 206,
      "metadata": {
        "colab": {
          "base_uri": "https://localhost:8080/"
        },
        "id": "oaIOkIS61S3B",
        "outputId": "0e4ab249-a8c0-43e9-8c6b-96628c7cf93e"
      },
      "outputs": [
        {
          "name": "stderr",
          "output_type": "stream",
          "text": [
            "C:\\Users\\ASUS\\AppData\\Local\\Temp\\ipykernel_16716\\1420345663.py:9: SettingWithCopyWarning: \n",
            "A value is trying to be set on a copy of a slice from a DataFrame.\n",
            "Try using .loc[row_indexer,col_indexer] = value instead\n",
            "\n",
            "See the caveats in the documentation: https://pandas.pydata.org/pandas-docs/stable/user_guide/indexing.html#returning-a-view-versus-a-copy\n",
            "  df['OpSys_Split'] = df['OpSys'].apply(split_opsys)\n"
          ]
        }
      ],
      "source": [
        "# prompt: write a program to take input OpSys column and split them into their string part\n",
        "\n",
        "def split_opsys(opsys_str):\n",
        "    if isinstance(opsys_str, str):\n",
        "        return opsys_str.split()[0]\n",
        "    else:\n",
        "        return 'other/NO Os/Linux'\n",
        "\n",
        "df['OpSys_Split'] = df['OpSys'].apply(split_opsys)"
      ]
    },
    {
      "cell_type": "code",
      "execution_count": 207,
      "metadata": {
        "colab": {
          "base_uri": "https://localhost:8080/",
          "height": 458
        },
        "id": "zVz5pfqw1S46",
        "outputId": "bc07ff16-81e9-4d9b-fdd1-5e11ecc643e7"
      },
      "outputs": [
        {
          "data": {
            "text/plain": [
              "0         macOS\n",
              "1         macOS\n",
              "2            No\n",
              "3         macOS\n",
              "4         macOS\n",
              "         ...   \n",
              "1298    Windows\n",
              "1299    Windows\n",
              "1300    Windows\n",
              "1301    Windows\n",
              "1302    Windows\n",
              "Name: OpSys_Split, Length: 1302, dtype: object"
            ]
          },
          "execution_count": 207,
          "metadata": {},
          "output_type": "execute_result"
        }
      ],
      "source": [
        "df['OpSys_Split']"
      ]
    },
    {
      "cell_type": "code",
      "execution_count": 208,
      "metadata": {
        "id": "RbVoyjsYKTL1"
      },
      "outputs": [],
      "source": [
        "df=df.drop(columns=['Memory','Gpu','ScreenResolution',])"
      ]
    },
    {
      "cell_type": "code",
      "execution_count": 209,
      "metadata": {},
      "outputs": [
        {
          "data": {
            "text/html": [
              "<div>\n",
              "<style scoped>\n",
              "    .dataframe tbody tr th:only-of-type {\n",
              "        vertical-align: middle;\n",
              "    }\n",
              "\n",
              "    .dataframe tbody tr th {\n",
              "        vertical-align: top;\n",
              "    }\n",
              "\n",
              "    .dataframe thead th {\n",
              "        text-align: right;\n",
              "    }\n",
              "</style>\n",
              "<table border=\"1\" class=\"dataframe\">\n",
              "  <thead>\n",
              "    <tr style=\"text-align: right;\">\n",
              "      <th></th>\n",
              "      <th>Unnamed: 0</th>\n",
              "      <th>Company</th>\n",
              "      <th>TypeName</th>\n",
              "      <th>Ram</th>\n",
              "      <th>OpSys</th>\n",
              "      <th>Weight</th>\n",
              "      <th>Price</th>\n",
              "      <th>Touchscreen</th>\n",
              "      <th>IPS</th>\n",
              "      <th>ppi</th>\n",
              "      <th>Cpu_Brand</th>\n",
              "      <th>SSD_Memory</th>\n",
              "      <th>HDD_Memory</th>\n",
              "      <th>Gpu_Brand</th>\n",
              "      <th>OpSys_Split</th>\n",
              "    </tr>\n",
              "  </thead>\n",
              "  <tbody>\n",
              "    <tr>\n",
              "      <th>0</th>\n",
              "      <td>0</td>\n",
              "      <td>Apple</td>\n",
              "      <td>Ultrabook</td>\n",
              "      <td>8</td>\n",
              "      <td>macOS</td>\n",
              "      <td>1.37</td>\n",
              "      <td>71378.6832</td>\n",
              "      <td>0</td>\n",
              "      <td>1</td>\n",
              "      <td>226.983005</td>\n",
              "      <td>Intel Core i5</td>\n",
              "      <td>128</td>\n",
              "      <td>0</td>\n",
              "      <td>Intel</td>\n",
              "      <td>macOS</td>\n",
              "    </tr>\n",
              "    <tr>\n",
              "      <th>1</th>\n",
              "      <td>1</td>\n",
              "      <td>Apple</td>\n",
              "      <td>Ultrabook</td>\n",
              "      <td>8</td>\n",
              "      <td>macOS</td>\n",
              "      <td>1.34</td>\n",
              "      <td>47895.5232</td>\n",
              "      <td>0</td>\n",
              "      <td>0</td>\n",
              "      <td>127.677940</td>\n",
              "      <td>Intel Core i5</td>\n",
              "      <td>0</td>\n",
              "      <td>0</td>\n",
              "      <td>Intel</td>\n",
              "      <td>macOS</td>\n",
              "    </tr>\n",
              "    <tr>\n",
              "      <th>2</th>\n",
              "      <td>2</td>\n",
              "      <td>HP</td>\n",
              "      <td>Notebook</td>\n",
              "      <td>8</td>\n",
              "      <td>No OS</td>\n",
              "      <td>1.86</td>\n",
              "      <td>30636.0000</td>\n",
              "      <td>0</td>\n",
              "      <td>0</td>\n",
              "      <td>141.211998</td>\n",
              "      <td>Intel Core i5</td>\n",
              "      <td>256</td>\n",
              "      <td>0</td>\n",
              "      <td>Intel</td>\n",
              "      <td>No</td>\n",
              "    </tr>\n",
              "    <tr>\n",
              "      <th>3</th>\n",
              "      <td>3</td>\n",
              "      <td>Apple</td>\n",
              "      <td>Ultrabook</td>\n",
              "      <td>16</td>\n",
              "      <td>macOS</td>\n",
              "      <td>1.83</td>\n",
              "      <td>135195.3360</td>\n",
              "      <td>0</td>\n",
              "      <td>1</td>\n",
              "      <td>220.534624</td>\n",
              "      <td>Intel Core i7</td>\n",
              "      <td>512</td>\n",
              "      <td>0</td>\n",
              "      <td>AMD</td>\n",
              "      <td>macOS</td>\n",
              "    </tr>\n",
              "    <tr>\n",
              "      <th>4</th>\n",
              "      <td>4</td>\n",
              "      <td>Apple</td>\n",
              "      <td>Ultrabook</td>\n",
              "      <td>8</td>\n",
              "      <td>macOS</td>\n",
              "      <td>1.37</td>\n",
              "      <td>96095.8080</td>\n",
              "      <td>0</td>\n",
              "      <td>1</td>\n",
              "      <td>226.983005</td>\n",
              "      <td>Intel Core i5</td>\n",
              "      <td>256</td>\n",
              "      <td>0</td>\n",
              "      <td>Intel</td>\n",
              "      <td>macOS</td>\n",
              "    </tr>\n",
              "  </tbody>\n",
              "</table>\n",
              "</div>"
            ],
            "text/plain": [
              "   Unnamed: 0 Company   TypeName  Ram  OpSys  Weight        Price  \\\n",
              "0           0   Apple  Ultrabook    8  macOS    1.37   71378.6832   \n",
              "1           1   Apple  Ultrabook    8  macOS    1.34   47895.5232   \n",
              "2           2      HP   Notebook    8  No OS    1.86   30636.0000   \n",
              "3           3   Apple  Ultrabook   16  macOS    1.83  135195.3360   \n",
              "4           4   Apple  Ultrabook    8  macOS    1.37   96095.8080   \n",
              "\n",
              "   Touchscreen  IPS         ppi      Cpu_Brand  SSD_Memory  HDD_Memory  \\\n",
              "0            0    1  226.983005  Intel Core i5         128           0   \n",
              "1            0    0  127.677940  Intel Core i5           0           0   \n",
              "2            0    0  141.211998  Intel Core i5         256           0   \n",
              "3            0    1  220.534624  Intel Core i7         512           0   \n",
              "4            0    1  226.983005  Intel Core i5         256           0   \n",
              "\n",
              "  Gpu_Brand OpSys_Split  \n",
              "0     Intel       macOS  \n",
              "1     Intel       macOS  \n",
              "2     Intel          No  \n",
              "3       AMD       macOS  \n",
              "4     Intel       macOS  "
            ]
          },
          "execution_count": 209,
          "metadata": {},
          "output_type": "execute_result"
        }
      ],
      "source": [
        "df.head()"
      ]
    },
    {
      "cell_type": "code",
      "execution_count": 210,
      "metadata": {},
      "outputs": [
        {
          "name": "stdout",
          "output_type": "stream",
          "text": [
            "<class 'pandas.core.frame.DataFrame'>\n",
            "Index: 1302 entries, 0 to 1302\n",
            "Data columns (total 15 columns):\n",
            " #   Column       Non-Null Count  Dtype  \n",
            "---  ------       --------------  -----  \n",
            " 0   Unnamed: 0   1302 non-null   int64  \n",
            " 1   Company      1302 non-null   object \n",
            " 2   TypeName     1302 non-null   object \n",
            " 3   Ram          1302 non-null   int32  \n",
            " 4   OpSys        1302 non-null   object \n",
            " 5   Weight       1302 non-null   float64\n",
            " 6   Price        1302 non-null   float64\n",
            " 7   Touchscreen  1302 non-null   int64  \n",
            " 8   IPS          1302 non-null   int64  \n",
            " 9   ppi          1302 non-null   float64\n",
            " 10  Cpu_Brand    1302 non-null   object \n",
            " 11  SSD_Memory   1302 non-null   int64  \n",
            " 12  HDD_Memory   1302 non-null   int64  \n",
            " 13  Gpu_Brand    1302 non-null   object \n",
            " 14  OpSys_Split  1302 non-null   object \n",
            "dtypes: float64(3), int32(1), int64(5), object(6)\n",
            "memory usage: 157.7+ KB\n"
          ]
        }
      ],
      "source": [
        "df.info()"
      ]
    },
    {
      "cell_type": "code",
      "execution_count": 211,
      "metadata": {
        "id": "9p53-GxGNHwe"
      },
      "outputs": [],
      "source": [
        "df['Price'] = df['Price'].astype(int)\n",
        "df['ppi'] = df['ppi'].astype(int)"
      ]
    },
    {
      "cell_type": "code",
      "execution_count": 212,
      "metadata": {
        "colab": {
          "base_uri": "https://localhost:8080/",
          "height": 457
        },
        "id": "l3Q7ovFF1S7h",
        "outputId": "b8417433-5a6a-4de3-8740-6d78b7180cd8"
      },
      "outputs": [
        {
          "data": {
            "image/png": "[encoded data removed]",
            "text/plain": [
              "<Figure size 640x480 with 1 Axes>"
            ]
          },
          "metadata": {},
          "output_type": "display_data"
        }
      ],
      "source": [
        "sns.scatterplot(x='Weight',y='Price',data=df)\n",
        "plt.xticks(rotation='vertical')\n",
        "plt.show()"
      ]
    },
    {
      "cell_type": "code",
      "execution_count": 213,
      "metadata": {
        "id": "6OQWu0ws1S9V"
      },
      "outputs": [],
      "source": [
        "X=df.iloc[:,1:]"
      ]
    },
    {
      "cell_type": "code",
      "execution_count": 214,
      "metadata": {},
      "outputs": [],
      "source": [
        "X = df.drop(columns=['Price'])\n",
        "y = np.log(df['Price'])"
      ]
    },
    {
      "cell_type": "code",
      "execution_count": 215,
      "metadata": {
        "id": "3A82rL6s1TAn"
      },
      "outputs": [],
      "source": [
        "from sklearn.model_selection import train_test_split\n",
        "X_train,X_test,Y_train,Y_test=train_test_split(X,Y,test_size=0.15,random_state=2)"
      ]
    },
    {
      "cell_type": "code",
      "execution_count": 216,
      "metadata": {
        "id": "m-g-QOaM1TDT"
      },
      "outputs": [],
      "source": [
        "from sklearn.compose import ColumnTransformer\n",
        "from sklearn.preprocessing import OneHotEncoder\n",
        "from sklearn.linear_model import LinearRegression,Lasso,Ridge\n",
        "from sklearn.tree import DecisionTreeRegressor\n",
        "from sklearn.metrics import r2_score,mean_absolute_error\n",
        "from sklearn.pipeline import Pipeline\n",
        "from sklearn.preprocessing import StandardScaler\n",
        "from sklearn.ensemble import RandomForestRegressor,GradientBoostingRegressor,AdaBoostRegressor,ExtraTreesRegressor\n",
        "from sklearn.svm import SVR\n",
        "from xgboost import XGBRegressor"
      ]
    },
    {
      "cell_type": "code",
      "execution_count": 217,
      "metadata": {
        "colab": {
          "base_uri": "https://localhost:8080/"
        },
        "id": "35MwFs7IzMpS",
        "outputId": "066e21e8-4420-4bef-aba6-84e9cd45a99d"
      },
      "outputs": [
        {
          "name": "stdout",
          "output_type": "stream",
          "text": [
            "R2 score 0.5985787773915063\n",
            "MAE 0.2952390859985235\n"
          ]
        },
        {
          "name": "stderr",
          "output_type": "stream",
          "text": [
            "c:\\Users\\ASUS\\AppData\\Local\\Programs\\Python\\Python312\\Lib\\site-packages\\sklearn\\preprocessing\\_encoders.py:241: UserWarning: Found unknown categories in columns [0, 3] during transform. These unknown categories will be encoded as all zeros\n",
            "  warnings.warn(\n"
          ]
        }
      ],
      "source": [
        "step1 = ColumnTransformer(transformers=[\n",
        "    ('col_tnf', OneHotEncoder(sparse_output=False, handle_unknown='ignore', drop='first'), [0,1, 7, 10, 11],)\n",
        "], remainder='drop')\n",
        "\n",
        "# Fix: Create an instance of LinearRegression\n",
        "step2 = LinearRegression()  # Add parentheses to create an instance\n",
        "\n",
        "pipe = Pipeline([\n",
        "    ('step1', step1),\n",
        "    ('step2', step2)\n",
        "])\n",
        "\n",
        "pipe.fit(X_train, Y_train)\n",
        "\n",
        "Y_pred = pipe.predict(X_test)\n",
        "\n",
        "print('R2 score', r2_score(Y_test, Y_pred))\n",
        "print('MAE', mean_absolute_error(Y_test, Y_pred))"
      ]
    },
    {
      "cell_type": "code",
      "execution_count": 218,
      "metadata": {
        "colab": {
          "base_uri": "https://localhost:8080/"
        },
        "id": "g7bg1O16zMrv",
        "outputId": "8a59567d-52bd-4653-bbab-ae8b8fd9ef75"
      },
      "outputs": [
        {
          "name": "stdout",
          "output_type": "stream",
          "text": [
            "R2 score 0.5508406237337802\n",
            "MAE 0.3081022394932335\n"
          ]
        },
        {
          "name": "stderr",
          "output_type": "stream",
          "text": [
            "c:\\Users\\ASUS\\AppData\\Local\\Programs\\Python\\Python312\\Lib\\site-packages\\sklearn\\preprocessing\\_encoders.py:241: UserWarning: Found unknown categories in columns [0, 3] during transform. These unknown categories will be encoded as all zeros\n",
            "  warnings.warn(\n"
          ]
        }
      ],
      "source": [
        "step1 = ColumnTransformer(transformers=[\n",
        "    ('col_tnf', OneHotEncoder(sparse_output=False, handle_unknown='ignore', drop='first'), [0,1, 7, 10, 11],)\n",
        "], remainder='drop')\n",
        "\n",
        "# Fix: Create an instance of LinearRegression\n",
        "step2 = DecisionTreeRegressor(max_depth=15)  # Add parentheses to create an instance\n",
        "\n",
        "pipe = Pipeline([\n",
        "    ('step1', step1),\n",
        "    ('step2', step2)\n",
        "])\n",
        "\n",
        "pipe.fit(X_train, Y_train)\n",
        "\n",
        "Y_pred = pipe.predict(X_test)\n",
        "\n",
        "print('R2 score', r2_score(Y_test, Y_pred))\n",
        "print('MAE', mean_absolute_error(Y_test, Y_pred))"
      ]
    },
    {
      "cell_type": "code",
      "execution_count": 219,
      "metadata": {
        "colab": {
          "base_uri": "https://localhost:8080/"
        },
        "id": "PhB8mcc2zMuL",
        "outputId": "f89cfc05-5774-4300-cb79-433ed415a563"
      },
      "outputs": [
        {
          "name": "stderr",
          "output_type": "stream",
          "text": [
            "c:\\Users\\ASUS\\AppData\\Local\\Programs\\Python\\Python312\\Lib\\site-packages\\sklearn\\preprocessing\\_encoders.py:241: UserWarning: Found unknown categories in columns [0, 3] during transform. These unknown categories will be encoded as all zeros\n",
            "  warnings.warn(\n"
          ]
        },
        {
          "name": "stdout",
          "output_type": "stream",
          "text": [
            "R2 score 0.3348641831891068\n",
            "MAE 0.37484164145076493\n"
          ]
        }
      ],
      "source": [
        "step1 = ColumnTransformer(transformers=[\n",
        "    ('col_tnf', OneHotEncoder(sparse_output=False, handle_unknown='ignore', drop='first'), [0,1, 7, 10, 11],)\n",
        "], remainder='drop')\n",
        "\n",
        "# Fix: Create an instance of LinearRegression\n",
        "step2 = SVR(kernel='rbf',C=10000,epsilon=0.1)  # Add parentheses to create an instance\n",
        "\n",
        "pipe = Pipeline([\n",
        "    ('step1', step1),\n",
        "    ('step2', step2)\n",
        "])\n",
        "\n",
        "pipe.fit(X_train, Y_train)\n",
        "\n",
        "Y_pred = pipe.predict(X_test)\n",
        "\n",
        "print('R2 score', r2_score(Y_test, Y_pred))\n",
        "print('MAE', mean_absolute_error(Y_test, Y_pred))"
      ]
    },
    {
      "cell_type": "code",
      "execution_count": 228,
      "metadata": {
        "colab": {
          "base_uri": "https://localhost:8080/"
        },
        "id": "uqW-rNZAzMxW",
        "outputId": "39450273-3463-48d7-a6a3-9730fa97808e"
      },
      "outputs": [
        {
          "name": "stdout",
          "output_type": "stream",
          "text": [
            "R2 score 0.5894564332215476\n",
            "MAE 0.3001355905585562\n"
          ]
        },
        {
          "name": "stderr",
          "output_type": "stream",
          "text": [
            "c:\\Users\\ASUS\\AppData\\Local\\Programs\\Python\\Python312\\Lib\\site-packages\\sklearn\\preprocessing\\_encoders.py:241: UserWarning: Found unknown categories in columns [0, 3] during transform. These unknown categories will be encoded as all zeros\n",
            "  warnings.warn(\n"
          ]
        }
      ],
      "source": [
        "step1 = ColumnTransformer(transformers=[\n",
        "    ('col_tnf', OneHotEncoder(sparse_output=False, handle_unknown='ignore', drop='first'), [0,1, 7, 10, 11],)\n",
        "], remainder='drop')\n",
        "\n",
        "# Fix: Create an instance of LinearRegression\n",
        "step2 = RandomForestRegressor(n_estimators=100,random_state=3,max_samples=0.5,max_features=0.75,max_depth=15)  # Add parentheses to create an instance\n",
        "\n",
        "pipe = Pipeline([\n",
        "    ('step1', step1),\n",
        "    ('step2', step2)\n",
        "])\n",
        "\n",
        "pipe.fit(X_train, Y_train)\n",
        "\n",
        "Y_pred = pipe.predict(X_test)\n",
        "\n",
        "print('R2 score', r2_score(Y_test, Y_pred))\n",
        "print('MAE', mean_absolute_error(Y_test, Y_pred))"
      ]
    },
    {
      "cell_type": "code",
      "execution_count": 221,
      "metadata": {
        "colab": {
          "base_uri": "https://localhost:8080/"
        },
        "id": "H1CauaIVi1Rh",
        "outputId": "ffa8a722-bfb1-4862-9579-1ec3b1438a51"
      },
      "outputs": [
        {
          "name": "stdout",
          "output_type": "stream",
          "text": [
            "R2 score 0.5767970725466585\n",
            "MAE 0.3029009446973225\n"
          ]
        },
        {
          "name": "stderr",
          "output_type": "stream",
          "text": [
            "c:\\Users\\ASUS\\AppData\\Local\\Programs\\Python\\Python312\\Lib\\site-packages\\sklearn\\preprocessing\\_encoders.py:241: UserWarning: Found unknown categories in columns [0, 3] during transform. These unknown categories will be encoded as all zeros\n",
            "  warnings.warn(\n"
          ]
        }
      ],
      "source": [
        "step1 = ColumnTransformer(transformers=[\n",
        "    ('col_tnf', OneHotEncoder(sparse_output=False, handle_unknown='ignore', drop='first'), [0,1, 7, 10, 11],)\n",
        "], remainder='drop')\n",
        "\n",
        "# Fix: Either enable bootstrap or set max_samples to None\n",
        "step2 = ExtraTreesRegressor(n_estimators=100, random_state=3, max_samples=None, max_features=0.75, max_depth=15)\n",
        "# Alternatively:\n",
        "# step2 = ExtraTreesRegressor(n_estimators=100, random_state=3, bootstrap=True, max_samples=0.5, max_features=0.75, max_depth=15)\n",
        "\n",
        "pipe = Pipeline([\n",
        "    ('step1', step1),\n",
        "    ('step2', step2)\n",
        "])\n",
        "\n",
        "pipe.fit(X_train, Y_train)\n",
        "\n",
        "Y_pred = pipe.predict(X_test)\n",
        "\n",
        "print('R2 score', r2_score(Y_test, Y_pred))\n",
        "print('MAE', mean_absolute_error(Y_test, Y_pred))"
      ]
    },
    {
      "cell_type": "code",
      "execution_count": 222,
      "metadata": {
        "colab": {
          "base_uri": "https://localhost:8080/"
        },
        "id": "755z26cQPW0L",
        "outputId": "e751fca8-4369-4f76-a0d1-831aff022954"
      },
      "outputs": [
        {
          "name": "stdout",
          "output_type": "stream",
          "text": [
            "R2 score 0.4475727824866631\n",
            "MAE 0.36155119014517473\n"
          ]
        },
        {
          "name": "stderr",
          "output_type": "stream",
          "text": [
            "c:\\Users\\ASUS\\AppData\\Local\\Programs\\Python\\Python312\\Lib\\site-packages\\sklearn\\preprocessing\\_encoders.py:241: UserWarning: Found unknown categories in columns [0, 3] during transform. These unknown categories will be encoded as all zeros\n",
            "  warnings.warn(\n"
          ]
        }
      ],
      "source": [
        "step1 = ColumnTransformer(transformers=[\n",
        "    ('col_tnf', OneHotEncoder(sparse_output=False, handle_unknown='ignore', drop='first'), [0,1, 7, 10, 11],)\n",
        "], remainder='drop')\n",
        "\n",
        "# Fix: Create an instance of LinearRegression\n",
        "step2 = AdaBoostRegressor(n_estimators=100,learning_rate=0.1)  # Add parentheses to create an instance\n",
        "\n",
        "pipe = Pipeline([\n",
        "    ('step1', step1),\n",
        "    ('step2', step2)\n",
        "])\n",
        "\n",
        "pipe.fit(X_train, Y_train)\n",
        "\n",
        "Y_pred = pipe.predict(X_test)\n",
        "\n",
        "print('R2 score', r2_score(Y_test, Y_pred))\n",
        "print('MAE', mean_absolute_error(Y_test, Y_pred))"
      ]
    },
    {
      "cell_type": "code",
      "execution_count": 223,
      "metadata": {
        "colab": {
          "base_uri": "https://localhost:8080/"
        },
        "id": "munOzUQsPW2w",
        "outputId": "0836bb10-6749-4077-ad4d-51c502e98b82"
      },
      "outputs": [
        {
          "name": "stdout",
          "output_type": "stream",
          "text": [
            "R2 score 0.5774828013919842\n",
            "MAE 0.31251941272159084\n"
          ]
        },
        {
          "name": "stderr",
          "output_type": "stream",
          "text": [
            "c:\\Users\\ASUS\\AppData\\Local\\Programs\\Python\\Python312\\Lib\\site-packages\\sklearn\\preprocessing\\_encoders.py:241: UserWarning: Found unknown categories in columns [0, 3] during transform. These unknown categories will be encoded as all zeros\n",
            "  warnings.warn(\n"
          ]
        }
      ],
      "source": [
        "step1 = ColumnTransformer(transformers=[\n",
        "    ('col_tnf', OneHotEncoder(sparse_output=False, handle_unknown='ignore', drop='first'), [0,1, 7, 10, 11],)\n",
        "], remainder='drop')\n",
        "\n",
        "# Fix: Create an instance of LinearRegression\n",
        "step2 = GradientBoostingRegressor(n_estimators=100)  # Add parentheses to create an instance\n",
        "\n",
        "pipe = Pipeline([\n",
        "    ('step1', step1),\n",
        "    ('step2', step2)\n",
        "])\n",
        "\n",
        "pipe.fit(X_train, Y_train)\n",
        "\n",
        "Y_pred = pipe.predict(X_test)\n",
        "\n",
        "print('R2 score', r2_score(Y_test, Y_pred))\n",
        "print('MAE', mean_absolute_error(Y_test, Y_pred))"
      ]
    },
    {
      "cell_type": "code",
      "execution_count": 224,
      "metadata": {
        "colab": {
          "base_uri": "https://localhost:8080/"
        },
        "id": "zmlNU6rgPW5S",
        "outputId": "d34520bf-d147-4411-c557-94ff2af7af15"
      },
      "outputs": [
        {
          "name": "stdout",
          "output_type": "stream",
          "text": [
            "R2 score 0.5980830540340425\n",
            "MAE 0.29884277862057107\n"
          ]
        },
        {
          "name": "stderr",
          "output_type": "stream",
          "text": [
            "c:\\Users\\ASUS\\AppData\\Local\\Programs\\Python\\Python312\\Lib\\site-packages\\sklearn\\preprocessing\\_encoders.py:241: UserWarning: Found unknown categories in columns [0, 3] during transform. These unknown categories will be encoded as all zeros\n",
            "  warnings.warn(\n"
          ]
        }
      ],
      "source": [
        "\n",
        "from sklearn.ensemble import VotingRegressor,StackingRegressor\n",
        "\n",
        "step1 = ColumnTransformer(transformers=[\n",
        "    ('col_tnf', OneHotEncoder(sparse_output=False, handle_unknown='ignore', drop='first'), [0,1, 7, 10, 11],)\n",
        "], remainder='drop')\n",
        "\n",
        "rf = RandomForestRegressor(n_estimators=100,random_state=3,max_samples=0.5,max_features=0.75,max_depth=15)\n",
        "gb = GradientBoostingRegressor(n_estimators=100)\n",
        "et = ExtraTreesRegressor(n_estimators=100, random_state=3, max_samples=None, max_features=0.75, max_depth=15)\n",
        "xgb=XGBRegressor(n_estimators=25,learning_rate=0.3,max_depth=5)\n",
        "\n",
        "voting_regressor = VotingRegressor(estimators=[('rf', rf), ('gb', gb), ('et', et)])\n",
        "\n",
        "pipe = Pipeline([\n",
        "    ('step1', step1),\n",
        "    ('step2', voting_regressor)\n",
        "])\n",
        "\n",
        "pipe.fit(X_train, Y_train)\n",
        "\n",
        "Y_pred = pipe.predict(X_test)\n",
        "\n",
        "print('R2 score', r2_score(Y_test, Y_pred))\n",
        "print('MAE', mean_absolute_error(Y_test, Y_pred))"
      ]
    },
    {
      "cell_type": "code",
      "execution_count": 229,
      "metadata": {
        "id": "8aC3Jec7PW7n"
      },
      "outputs": [],
      "source": [
        "import pickle\n",
        "pickle.dump(pipe,open('pipe.pkl','wb'))\n",
        "pickle.dump(df,open('df.pkl','wb'))"
      ]
    },
    {
      "cell_type": "code",
      "execution_count": null,
      "metadata": {
        "id": "lAAJV-BWPW-N"
      },
      "outputs": [],
      "source": []
    },
    {
      "cell_type": "code",
      "execution_count": null,
      "metadata": {
        "id": "Tn8sXNWNPXAY"
      },
      "outputs": [],
      "source": []
    },
    {
      "cell_type": "code",
      "execution_count": null,
      "metadata": {
        "id": "DInhOLXjPXCu"
      },
      "outputs": [],
      "source": []
    },
    {
      "cell_type": "code",
      "execution_count": null,
      "metadata": {
        "id": "5nTtejCNPXFD"
      },
      "outputs": [],
      "source": []
    },
    {
      "cell_type": "code",
      "execution_count": null,
      "metadata": {
        "id": "eHjH_c7UPXH9"
      },
      "outputs": [],
      "source": []
    },
    {
      "cell_type": "code",
      "execution_count": null,
      "metadata": {
        "id": "yAEDgbaJPXKx"
      },
      "outputs": [],
      "source": []
    }
  ],
  "metadata": {
    "colab": {
      "provenance": []
    },
    "kernelspec": {
      "display_name": "Python 3",
      "name": "python3"
    },
    "language_info": {
      "codemirror_mode": {
        "name": "ipython",
        "version": 3
      },
      "file_extension": ".py",
      "mimetype": "text/x-python",
      "name": "python",
      "nbconvert_exporter": "python",
      "pygments_lexer": "ipython3",
      "version": "3.12.7"
    }
  },
  "nbformat": 4,
  "nbformat_minor": 0
}
